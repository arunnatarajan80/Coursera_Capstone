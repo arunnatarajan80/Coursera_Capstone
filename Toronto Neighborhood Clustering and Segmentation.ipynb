{
 "cells": [
  {
   "cell_type": "markdown",
   "metadata": {},
   "source": [
    "<h1><center>Applied Data Science Capstone</center></h1>\n",
    "\n",
    "## Project Name: Toronto Neighborhood Clustering and Segmentation\n",
    "\n",
    "Objective of this project is to explore Toronto neighborhoods and cluster them based on the venues and segment them using Wikipedia Data and Foursqaure API."
   ]
  },
  {
   "cell_type": "markdown",
   "metadata": {},
   "source": [
    "### <font color='red'> CLICK on the link to navigate to specific sections</font>\n"
   ]
  },
  {
   "cell_type": "markdown",
   "metadata": {},
   "source": [
    "## Table of Contents \n",
    "\n",
    "<font size = 3>\n",
    "    \n",
    "1. <a href=\"#item1\">Web Scraping using BeautifulSoup</a> \n",
    "\n",
    "2. <a href=\"#item2\">Collecting Neighborhood Latitude and Longitude Coordinates</a>\n",
    "\n",
    "3. <a href=\"#item3\">Explore and cluster the neighborhoods in Toronto</a>\n",
    "\n",
    "</font>\n"
   ]
  },
  {
   "cell_type": "markdown",
   "metadata": {},
   "source": [
    "## Import Libraries"
   ]
  },
  {
   "cell_type": "code",
   "execution_count": 1,
   "metadata": {},
   "outputs": [],
   "source": [
    "import numpy as np\n",
    "import pandas as pd\n",
    "import requests\n",
    "from bs4 import BeautifulSoup\n",
    "import geocoder\n",
    "from geopy.geocoders import Nominatim\n",
    "import folium\n",
    "from sklearn.cluster import KMeans\n",
    "import matplotlib.pyplot as plt\n",
    "import matplotlib.cm as cm\n",
    "import matplotlib.colors as colors\n",
    "%matplotlib inline"
   ]
  },
  {
   "cell_type": "markdown",
   "metadata": {},
   "source": [
    "<a id='item1'></a>\n",
    "# <font color='blue'>1. Web Scraping using BeautifulSoup </font>\n",
    "This section demonstrates usage of BeautifulSoup to collect Toronto beighborhood data from Wikipedia page.\n",
    "Notes:\n",
    "* if we examine the BeautifulSoup output then we can notice that the Wiki Page contains a table of class named 'wikitable'"
   ]
  },
  {
   "cell_type": "markdown",
   "metadata": {},
   "source": [
    "#### 1.1 Wiki Page content and get the rows of the table"
   ]
  },
  {
   "cell_type": "code",
   "execution_count": 2,
   "metadata": {},
   "outputs": [
    {
     "name": "stdout",
     "output_type": "stream",
     "text": [
      "# Rows in table: 181\n"
     ]
    },
    {
     "data": {
      "text/plain": [
       "[<tr>\n",
       " <th>Postal code\n",
       " </th>\n",
       " <th>Borough\n",
       " </th>\n",
       " <th>Neighborhood\n",
       " </th></tr>, <tr>\n",
       " <td>M1A\n",
       " </td>\n",
       " <td>Not assigned\n",
       " </td>\n",
       " <td>\n",
       " </td></tr>]"
      ]
     },
     "execution_count": 2,
     "metadata": {},
     "output_type": "execute_result"
    }
   ],
   "source": [
    "wikiUrl = 'https://en.wikipedia.org/wiki/List_of_postal_codes_of_Canada:_M'\n",
    "wikiResp = requests.get(wikiUrl) # Get response from wikipedia \n",
    "soup = BeautifulSoup(wikiResp.content) # Process the response\n",
    "table = soup.find('table', {\"class\":\"wikitable\"}) # Find the table\n",
    "tableRows = table.findAll('tr') # Get all Rows of the table\n",
    "print('# Rows in table:', len(tableRows))\n",
    "tableRows[0:2]  # output just two rows for reference"
   ]
  },
  {
   "cell_type": "markdown",
   "metadata": {},
   "source": [
    "##### <font color='red'>Note: \"th\" and \"td\" tag usage</font>"
   ]
  },
  {
   "cell_type": "markdown",
   "metadata": {},
   "source": [
    "#### 1.2 Build a dataframe and Ignore rows with empty cells\n",
    "* Ignore cells with a borough that is Not assigned\n",
    "* Set Neighborhood = Borough, If a cell has a borough but a Not assigned neighborhood"
   ]
  },
  {
   "cell_type": "code",
   "execution_count": 3,
   "metadata": {},
   "outputs": [],
   "source": [
    "# Create Empty DataFrame with required columns\n",
    "torontoNB = pd.DataFrame(columns=['PostalCode', 'Borough', 'Neighborhood'])\n",
    "\n",
    "# Iterate all row elements and collect the data\n",
    "# ignore the first row of wikitable as it the title row\n",
    "for rowIndex, rowElement in enumerate(tableRows[1:]):\n",
    "    # initialize row values as empty strings\n",
    "    postalCode = ''\n",
    "    borough = ''\n",
    "    neighborhood = ''\n",
    "    # get the cell values\n",
    "    cells = rowElement.findAll('td')\n",
    "    postalCode = cells[0].text.strip()\n",
    "    borough = cells[1].text.strip()\n",
    "    neighborhood = cells[2].text.strip() if cells[2].text.strip() else borough # if neighborhood not assigned, set to borough\n",
    "    \n",
    "    # add the row to data frame if is not equals 'Not assigned'\n",
    "    if borough.lower() != 'not assigned':\n",
    "        torontoNB.loc[len(torontoNB)] = [postalCode, borough, neighborhood]"
   ]
  },
  {
   "cell_type": "markdown",
   "metadata": {},
   "source": [
    "#### 1.3 Check and Cleanup duplicate postal codes\n",
    "\n",
    "* Check if More than one neighborhood can exist in one postal code area"
   ]
  },
  {
   "cell_type": "code",
   "execution_count": 4,
   "metadata": {},
   "outputs": [
    {
     "name": "stdout",
     "output_type": "stream",
     "text": [
      "# Unique Postal Codes: 103\n",
      "# Rows in torontoNB: 103\n"
     ]
    }
   ],
   "source": [
    "# Check the postal code counts\n",
    "print('# Unique Postal Codes:', torontoNB.PostalCode.unique().shape[0])\n",
    "print('# Rows in torontoNB:', torontoNB.shape[0])"
   ]
  },
  {
   "cell_type": "markdown",
   "metadata": {},
   "source": [
    "<font color='red'> Note:  \n",
    "\n",
    "* <font color='red'>Filtering rules implemented step 1.2</font>\n",
    "\n",
    "* <font color='red'>At Step 1.3 there is NO row with 'Not assigned' Borough.</font>\n",
    "\n",
    "* <font color='red'>At Step 1.3 there is NO Duplicate PostalCode, Refer Unique Postal Codes and total length of dataframe.</font>\n",
    "\n",
    "</font>"
   ]
  },
  {
   "cell_type": "markdown",
   "metadata": {},
   "source": [
    "#### 1.4 Display Toronto Neighborhood data\n"
   ]
  },
  {
   "cell_type": "code",
   "execution_count": 5,
   "metadata": {},
   "outputs": [
    {
     "name": "stdout",
     "output_type": "stream",
     "text": [
      "DataFrame Shape: (103, 3)\n"
     ]
    },
    {
     "data": {
      "text/html": [
       "<div>\n",
       "<style scoped>\n",
       "    .dataframe tbody tr th:only-of-type {\n",
       "        vertical-align: middle;\n",
       "    }\n",
       "\n",
       "    .dataframe tbody tr th {\n",
       "        vertical-align: top;\n",
       "    }\n",
       "\n",
       "    .dataframe thead th {\n",
       "        text-align: right;\n",
       "    }\n",
       "</style>\n",
       "<table border=\"1\" class=\"dataframe\">\n",
       "  <thead>\n",
       "    <tr style=\"text-align: right;\">\n",
       "      <th></th>\n",
       "      <th>PostalCode</th>\n",
       "      <th>Borough</th>\n",
       "      <th>Neighborhood</th>\n",
       "    </tr>\n",
       "  </thead>\n",
       "  <tbody>\n",
       "    <tr>\n",
       "      <td>0</td>\n",
       "      <td>M3A</td>\n",
       "      <td>North York</td>\n",
       "      <td>Parkwoods</td>\n",
       "    </tr>\n",
       "    <tr>\n",
       "      <td>1</td>\n",
       "      <td>M4A</td>\n",
       "      <td>North York</td>\n",
       "      <td>Victoria Village</td>\n",
       "    </tr>\n",
       "    <tr>\n",
       "      <td>2</td>\n",
       "      <td>M5A</td>\n",
       "      <td>Downtown Toronto</td>\n",
       "      <td>Regent Park / Harbourfront</td>\n",
       "    </tr>\n",
       "    <tr>\n",
       "      <td>3</td>\n",
       "      <td>M6A</td>\n",
       "      <td>North York</td>\n",
       "      <td>Lawrence Manor / Lawrence Heights</td>\n",
       "    </tr>\n",
       "    <tr>\n",
       "      <td>4</td>\n",
       "      <td>M7A</td>\n",
       "      <td>Downtown Toronto</td>\n",
       "      <td>Queen's Park / Ontario Provincial Government</td>\n",
       "    </tr>\n",
       "  </tbody>\n",
       "</table>\n",
       "</div>"
      ],
      "text/plain": [
       "  PostalCode           Borough                                  Neighborhood\n",
       "0        M3A        North York                                     Parkwoods\n",
       "1        M4A        North York                              Victoria Village\n",
       "2        M5A  Downtown Toronto                    Regent Park / Harbourfront\n",
       "3        M6A        North York             Lawrence Manor / Lawrence Heights\n",
       "4        M7A  Downtown Toronto  Queen's Park / Ontario Provincial Government"
      ]
     },
     "execution_count": 5,
     "metadata": {},
     "output_type": "execute_result"
    }
   ],
   "source": [
    "print('DataFrame Shape:', torontoNB.shape)\n",
    "torontoNB.head()"
   ]
  },
  {
   "cell_type": "markdown",
   "metadata": {},
   "source": [
    "<a id='item2'></a>\n",
    "# <font color='blue'>2. Collecting Neighborhood Latitude and Longitude Coordinates</font>\n",
    "In this section, we will get Toronto neighborhood latitude and longitude coordinates from pre defined csv file"
   ]
  },
  {
   "cell_type": "markdown",
   "metadata": {},
   "source": [
    "#### 2.1 Read latitude and logitude data from csv"
   ]
  },
  {
   "cell_type": "code",
   "execution_count": 6,
   "metadata": {},
   "outputs": [
    {
     "name": "stdout",
     "output_type": "stream",
     "text": [
      "(103, 3)\n"
     ]
    }
   ],
   "source": [
    "trnbll_CsvUrl = 'http://cocl.us/Geospatial_data'\n",
    "trnbll_csv_df = pd.read_csv(trnbll_CsvUrl)\n",
    "trnbll_csv_df.rename(columns={'Postal Code':'PostalCode'} , inplace=True)\n",
    "print(trnbll_csv_df.shape)"
   ]
  },
  {
   "cell_type": "markdown",
   "metadata": {},
   "source": [
    "#### 2.2 Collect location coordinates and Display results"
   ]
  },
  {
   "cell_type": "code",
   "execution_count": 7,
   "metadata": {},
   "outputs": [
    {
     "name": "stdout",
     "output_type": "stream",
     "text": [
      "(103, 5)\n"
     ]
    },
    {
     "data": {
      "text/html": [
       "<div>\n",
       "<style scoped>\n",
       "    .dataframe tbody tr th:only-of-type {\n",
       "        vertical-align: middle;\n",
       "    }\n",
       "\n",
       "    .dataframe tbody tr th {\n",
       "        vertical-align: top;\n",
       "    }\n",
       "\n",
       "    .dataframe thead th {\n",
       "        text-align: right;\n",
       "    }\n",
       "</style>\n",
       "<table border=\"1\" class=\"dataframe\">\n",
       "  <thead>\n",
       "    <tr style=\"text-align: right;\">\n",
       "      <th></th>\n",
       "      <th>PostalCode</th>\n",
       "      <th>Borough</th>\n",
       "      <th>Neighborhood</th>\n",
       "      <th>Latitude</th>\n",
       "      <th>Longitude</th>\n",
       "    </tr>\n",
       "  </thead>\n",
       "  <tbody>\n",
       "    <tr>\n",
       "      <td>0</td>\n",
       "      <td>M3A</td>\n",
       "      <td>North York</td>\n",
       "      <td>Parkwoods</td>\n",
       "      <td>43.753259</td>\n",
       "      <td>-79.329656</td>\n",
       "    </tr>\n",
       "    <tr>\n",
       "      <td>1</td>\n",
       "      <td>M4A</td>\n",
       "      <td>North York</td>\n",
       "      <td>Victoria Village</td>\n",
       "      <td>43.725882</td>\n",
       "      <td>-79.315572</td>\n",
       "    </tr>\n",
       "    <tr>\n",
       "      <td>2</td>\n",
       "      <td>M5A</td>\n",
       "      <td>Downtown Toronto</td>\n",
       "      <td>Regent Park / Harbourfront</td>\n",
       "      <td>43.654260</td>\n",
       "      <td>-79.360636</td>\n",
       "    </tr>\n",
       "    <tr>\n",
       "      <td>3</td>\n",
       "      <td>M6A</td>\n",
       "      <td>North York</td>\n",
       "      <td>Lawrence Manor / Lawrence Heights</td>\n",
       "      <td>43.718518</td>\n",
       "      <td>-79.464763</td>\n",
       "    </tr>\n",
       "    <tr>\n",
       "      <td>4</td>\n",
       "      <td>M7A</td>\n",
       "      <td>Downtown Toronto</td>\n",
       "      <td>Queen's Park / Ontario Provincial Government</td>\n",
       "      <td>43.662301</td>\n",
       "      <td>-79.389494</td>\n",
       "    </tr>\n",
       "  </tbody>\n",
       "</table>\n",
       "</div>"
      ],
      "text/plain": [
       "  PostalCode           Borough                                  Neighborhood  \\\n",
       "0        M3A        North York                                     Parkwoods   \n",
       "1        M4A        North York                              Victoria Village   \n",
       "2        M5A  Downtown Toronto                    Regent Park / Harbourfront   \n",
       "3        M6A        North York             Lawrence Manor / Lawrence Heights   \n",
       "4        M7A  Downtown Toronto  Queen's Park / Ontario Provincial Government   \n",
       "\n",
       "    Latitude  Longitude  \n",
       "0  43.753259 -79.329656  \n",
       "1  43.725882 -79.315572  \n",
       "2  43.654260 -79.360636  \n",
       "3  43.718518 -79.464763  \n",
       "4  43.662301 -79.389494  "
      ]
     },
     "execution_count": 7,
     "metadata": {},
     "output_type": "execute_result"
    }
   ],
   "source": [
    "torontoNBLoc = torontoNB.join(trnbll_csv_df.set_index('PostalCode'), on='PostalCode')\n",
    "print(torontoNBLoc.shape)\n",
    "torontoNBLoc.head()"
   ]
  },
  {
   "cell_type": "markdown",
   "metadata": {},
   "source": [
    "<a id='item3'></a>\n",
    "# <font color='blue'>3. Explore and cluster the neighborhoods in Toronto</font>"
   ]
  },
  {
   "cell_type": "markdown",
   "metadata": {},
   "source": [
    "## 3.1 Filter/Select boroughs names containing 'Toronto'"
   ]
  },
  {
   "cell_type": "code",
   "execution_count": 8,
   "metadata": {},
   "outputs": [
    {
     "data": {
      "text/html": [
       "<div>\n",
       "<style scoped>\n",
       "    .dataframe tbody tr th:only-of-type {\n",
       "        vertical-align: middle;\n",
       "    }\n",
       "\n",
       "    .dataframe tbody tr th {\n",
       "        vertical-align: top;\n",
       "    }\n",
       "\n",
       "    .dataframe thead th {\n",
       "        text-align: right;\n",
       "    }\n",
       "</style>\n",
       "<table border=\"1\" class=\"dataframe\">\n",
       "  <thead>\n",
       "    <tr style=\"text-align: right;\">\n",
       "      <th></th>\n",
       "      <th>PostalCode</th>\n",
       "      <th>Borough</th>\n",
       "      <th>Neighborhood</th>\n",
       "      <th>Latitude</th>\n",
       "      <th>Longitude</th>\n",
       "    </tr>\n",
       "  </thead>\n",
       "  <tbody>\n",
       "    <tr>\n",
       "      <td>0</td>\n",
       "      <td>M5A</td>\n",
       "      <td>Downtown Toronto</td>\n",
       "      <td>Regent Park / Harbourfront</td>\n",
       "      <td>43.654260</td>\n",
       "      <td>-79.360636</td>\n",
       "    </tr>\n",
       "    <tr>\n",
       "      <td>1</td>\n",
       "      <td>M7A</td>\n",
       "      <td>Downtown Toronto</td>\n",
       "      <td>Queen's Park / Ontario Provincial Government</td>\n",
       "      <td>43.662301</td>\n",
       "      <td>-79.389494</td>\n",
       "    </tr>\n",
       "    <tr>\n",
       "      <td>2</td>\n",
       "      <td>M5B</td>\n",
       "      <td>Downtown Toronto</td>\n",
       "      <td>Garden District, Ryerson</td>\n",
       "      <td>43.657162</td>\n",
       "      <td>-79.378937</td>\n",
       "    </tr>\n",
       "    <tr>\n",
       "      <td>3</td>\n",
       "      <td>M5C</td>\n",
       "      <td>Downtown Toronto</td>\n",
       "      <td>St. James Town</td>\n",
       "      <td>43.651494</td>\n",
       "      <td>-79.375418</td>\n",
       "    </tr>\n",
       "    <tr>\n",
       "      <td>4</td>\n",
       "      <td>M4E</td>\n",
       "      <td>East Toronto</td>\n",
       "      <td>The Beaches</td>\n",
       "      <td>43.676357</td>\n",
       "      <td>-79.293031</td>\n",
       "    </tr>\n",
       "  </tbody>\n",
       "</table>\n",
       "</div>"
      ],
      "text/plain": [
       "  PostalCode           Borough                                  Neighborhood  \\\n",
       "0        M5A  Downtown Toronto                    Regent Park / Harbourfront   \n",
       "1        M7A  Downtown Toronto  Queen's Park / Ontario Provincial Government   \n",
       "2        M5B  Downtown Toronto                      Garden District, Ryerson   \n",
       "3        M5C  Downtown Toronto                                St. James Town   \n",
       "4        M4E      East Toronto                                   The Beaches   \n",
       "\n",
       "    Latitude  Longitude  \n",
       "0  43.654260 -79.360636  \n",
       "1  43.662301 -79.389494  \n",
       "2  43.657162 -79.378937  \n",
       "3  43.651494 -79.375418  \n",
       "4  43.676357 -79.293031  "
      ]
     },
     "execution_count": 8,
     "metadata": {},
     "output_type": "execute_result"
    }
   ],
   "source": [
    "neighborhoods = torontoNBLoc.copy()\n",
    "neighborhoods['borough_lower'] = neighborhoods.Borough.str.lower()\n",
    "neighborhoods = neighborhoods[neighborhoods['borough_lower'].str.contains('toronto')]\n",
    "neighborhoods = neighborhoods.drop('borough_lower', 1)\n",
    "neighborhoods.reset_index(inplace=True, drop='index')\n",
    "neighborhoods.head()"
   ]
  },
  {
   "cell_type": "code",
   "execution_count": 9,
   "metadata": {},
   "outputs": [
    {
     "name": "stdout",
     "output_type": "stream",
     "text": [
      "# Boroughs: 4\n",
      "# Neighborhoods: 39\n"
     ]
    }
   ],
   "source": [
    "print('# Boroughs:', len(neighborhoods.Borough.unique()))\n",
    "print('# Neighborhoods:', neighborhoods.shape[0])"
   ]
  },
  {
   "cell_type": "markdown",
   "metadata": {},
   "source": [
    "## 3.2 Get Toronto Coordinates"
   ]
  },
  {
   "cell_type": "code",
   "execution_count": 10,
   "metadata": {},
   "outputs": [
    {
     "name": "stdout",
     "output_type": "stream",
     "text": [
      "Toronto Latitude, Longitude: 43.6465466 -79.4195263\n"
     ]
    }
   ],
   "source": [
    "geolocator = Nominatim(user_agent=\"my-application\")\n",
    "toLoc = geolocator.geocode('North Toronto West, Ontario') # Using 'North Toronto West' to center map around Toronto neighborhoods\n",
    "toLatitude = toLoc.latitude\n",
    "toLongitude = toLoc.longitude\n",
    "print('Toronto Latitude, Longitude:', toLatitude, toLongitude)"
   ]
  },
  {
   "cell_type": "markdown",
   "metadata": {},
   "source": [
    "## 3.3 Visualize Neighborhoods on Map"
   ]
  },
  {
   "cell_type": "code",
   "execution_count": 12,
   "metadata": {},
   "outputs": [
    {
     "data": {
      "text/html": [
       "<div style=\"width:100%;\"><div style=\"position:relative;width:100%;height:0;padding-bottom:60%;\"><iframe src=\"about:blank\" style=\"position:absolute;width:100%;height:100%;left:0;top:0;border:none !important;\" data-html=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 onload=\"this.contentDocument.open();this.contentDocument.write(atob(this.getAttribute('data-html')));this.contentDocument.close();\" allowfullscreen webkitallowfullscreen mozallowfullscreen></iframe></div></div>"
      ],
      "text/plain": [
       "<folium.folium.Map at 0x1b834508648>"
      ]
     },
     "execution_count": 12,
     "metadata": {},
     "output_type": "execute_result"
    }
   ],
   "source": [
    "# Create Toronto Map\n",
    "toMap = folium.Map(location=[toLatitude, toLongitude], zoom_start=12)\n",
    "\n",
    "# add markers to map\n",
    "for lat, lng, borough, neighborhood in zip(neighborhoods['Latitude'], neighborhoods['Longitude'], neighborhoods['Borough'], neighborhoods['Neighborhood']):\n",
    "    label = '{}, {}'.format(neighborhood, borough)\n",
    "    label = folium.Popup(label, parse_html=True)\n",
    "    folium.CircleMarker(\n",
    "        [lat, lng],\n",
    "        radius=5,\n",
    "        popup=label,\n",
    "        color='blue',\n",
    "        fill=True,\n",
    "        fill_color='#3186cc',\n",
    "        fill_opacity=0.7,\n",
    "        parse_html=False).add_to(toMap)  \n",
    "\n",
    "toMap"
   ]
  },
  {
   "cell_type": "markdown",
   "metadata": {},
   "source": [
    "## 3.4 Explore Toronto Neighborhoods\n",
    "Using Foursquare API and Neighborhood Locations gathered earlier\n",
    "With radius limit of 500 meters\n",
    "Max number of places per neighborhood is 100"
   ]
  },
  {
   "cell_type": "markdown",
   "metadata": {},
   "source": [
    "### 3.4.1 Get Foursquare User Details \n",
    "<font color = 'red'>\n",
    "In this section we will collect user's Foursquare Client ID and Client Secret.\n",
    "This will avoid hard coding of the credentials.\n",
    "Method I'll follow is to store as Windows Environment Variables and read them.\n",
    "</font>"
   ]
  },
  {
   "cell_type": "code",
   "execution_count": 13,
   "metadata": {},
   "outputs": [
    {
     "name": "stdout",
     "output_type": "stream",
     "text": [
      "<class 'str'>\n",
      "<class 'str'>\n"
     ]
    }
   ],
   "source": [
    "import os\n",
    "CLIENT_ID = os.environ.get(\"FS_CLIENT_ID\")\n",
    "CLIENT_SECRET = os.environ.get(\"FS_CLIENT_SECRET\")\n",
    "print(type(CLIENT_ID))\n",
    "print(type(CLIENT_SECRET))"
   ]
  },
  {
   "cell_type": "markdown",
   "metadata": {},
   "source": [
    "### 3.4.2 Foursquare API Query Function"
   ]
  },
  {
   "cell_type": "code",
   "execution_count": 14,
   "metadata": {},
   "outputs": [],
   "source": [
    "# Foursquare Setup\n",
    "VERSION = '20180605' # Foursquare API version\n",
    "LIMIT = 100\n",
    "radius = 500\n",
    "\n",
    "# Function to gather venue name, location and category (Reusing the same function defined in previous lab)\n",
    "# change made is to include the postal code column\n",
    "def getNearbyVenues(postalcodes, names, latitudes, longitudes):\n",
    "    \n",
    "    venues_list=[]\n",
    "    for postalcode, name, lat, lng in zip(postalcodes, names, latitudes, longitudes):\n",
    "        #print(name)\n",
    "            \n",
    "        # create the API request URL\n",
    "        url = 'https://api.foursquare.com/v2/venues/explore?&client_id={}&client_secret={}&v={}&ll={},{}&radius={}&limit={}'.format(\n",
    "            CLIENT_ID, \n",
    "            CLIENT_SECRET, \n",
    "            VERSION, \n",
    "            lat, \n",
    "            lng, \n",
    "            radius, \n",
    "            LIMIT)\n",
    "            \n",
    "        # make the GET request\n",
    "        resp = requests.get(url)\n",
    "        #print(resp)\n",
    "        results = resp.json()[\"response\"]['groups'][0]['items']\n",
    "        \n",
    "        # return only relevant information for each nearby venue\n",
    "        venues_list.append([(\n",
    "            postalcode,\n",
    "            name, \n",
    "            lat, \n",
    "            lng, \n",
    "            v['venue']['name'], \n",
    "            v['venue']['location']['lat'], \n",
    "            v['venue']['location']['lng'],  \n",
    "            v['venue']['categories'][0]['name']) for v in results])\n",
    "\n",
    "    nearby_venues = pd.DataFrame([item for venue_list in venues_list for item in venue_list])\n",
    "    nearby_venues.columns = ['PostalCode',\n",
    "                             'Neighborhood', \n",
    "                              'Neighborhood Latitude', \n",
    "                              'Neighborhood Longitude', \n",
    "                              'Venue', \n",
    "                              'Venue Latitude', \n",
    "                              'Venue Longitude', \n",
    "                              'Venue Category']\n",
    "    \n",
    "    return(nearby_venues)"
   ]
  },
  {
   "cell_type": "markdown",
   "metadata": {},
   "source": [
    "### 3.4.3 Collect Venue details for all neighborhoods\n",
    "Using Neighborhood Locations gathered in step 3.1"
   ]
  },
  {
   "cell_type": "code",
   "execution_count": 17,
   "metadata": {},
   "outputs": [
    {
     "data": {
      "text/html": [
       "<div>\n",
       "<style scoped>\n",
       "    .dataframe tbody tr th:only-of-type {\n",
       "        vertical-align: middle;\n",
       "    }\n",
       "\n",
       "    .dataframe tbody tr th {\n",
       "        vertical-align: top;\n",
       "    }\n",
       "\n",
       "    .dataframe thead th {\n",
       "        text-align: right;\n",
       "    }\n",
       "</style>\n",
       "<table border=\"1\" class=\"dataframe\">\n",
       "  <thead>\n",
       "    <tr style=\"text-align: right;\">\n",
       "      <th></th>\n",
       "      <th>PostalCode</th>\n",
       "      <th>Neighborhood</th>\n",
       "      <th>Neighborhood Latitude</th>\n",
       "      <th>Neighborhood Longitude</th>\n",
       "      <th>Venue</th>\n",
       "      <th>Venue Latitude</th>\n",
       "      <th>Venue Longitude</th>\n",
       "      <th>Venue Category</th>\n",
       "    </tr>\n",
       "  </thead>\n",
       "  <tbody>\n",
       "    <tr>\n",
       "      <td>0</td>\n",
       "      <td>M5A</td>\n",
       "      <td>Regent Park / Harbourfront</td>\n",
       "      <td>43.65426</td>\n",
       "      <td>-79.360636</td>\n",
       "      <td>Roselle Desserts</td>\n",
       "      <td>43.653447</td>\n",
       "      <td>-79.362017</td>\n",
       "      <td>Bakery</td>\n",
       "    </tr>\n",
       "    <tr>\n",
       "      <td>1</td>\n",
       "      <td>M5A</td>\n",
       "      <td>Regent Park / Harbourfront</td>\n",
       "      <td>43.65426</td>\n",
       "      <td>-79.360636</td>\n",
       "      <td>Tandem Coffee</td>\n",
       "      <td>43.653559</td>\n",
       "      <td>-79.361809</td>\n",
       "      <td>Coffee Shop</td>\n",
       "    </tr>\n",
       "  </tbody>\n",
       "</table>\n",
       "</div>"
      ],
      "text/plain": [
       "  PostalCode                Neighborhood  Neighborhood Latitude  \\\n",
       "0        M5A  Regent Park / Harbourfront               43.65426   \n",
       "1        M5A  Regent Park / Harbourfront               43.65426   \n",
       "\n",
       "   Neighborhood Longitude             Venue  Venue Latitude  Venue Longitude  \\\n",
       "0              -79.360636  Roselle Desserts       43.653447       -79.362017   \n",
       "1              -79.360636     Tandem Coffee       43.653559       -79.361809   \n",
       "\n",
       "  Venue Category  \n",
       "0         Bakery  \n",
       "1    Coffee Shop  "
      ]
     },
     "execution_count": 17,
     "metadata": {},
     "output_type": "execute_result"
    }
   ],
   "source": [
    "venues = getNearbyVenues(postalcodes=neighborhoods['PostalCode'],\n",
    "                        names=neighborhoods['Neighborhood'],\n",
    "                        latitudes=neighborhoods['Latitude'],\n",
    "                        longitudes=neighborhoods['Longitude']\n",
    "                        )\n",
    "\n",
    "# Remove Venues which are categorized as 'Neighborhood'\n",
    "venues = venues[venues['Venue Category']!='Neighborhood'] \n",
    "venues.reset_index(inplace=True, drop='index')\n",
    "\n",
    "venues.head(2)"
   ]
  },
  {
   "cell_type": "markdown",
   "metadata": {},
   "source": [
    "Visualize venue details"
   ]
  },
  {
   "cell_type": "code",
   "execution_count": 18,
   "metadata": {},
   "outputs": [
    {
     "name": "stdout",
     "output_type": "stream",
     "text": [
      "# Venues: 1679\n",
      "# Unique Venue Categories: 232\n",
      "# Neighborhoods: 39\n"
     ]
    }
   ],
   "source": [
    "print('# Venues:', venues.shape[0])\n",
    "print('# Unique Venue Categories:', len(venues['Venue Category'].unique()))\n",
    "print('# Neighborhoods:', len(venues['Neighborhood'].unique()))"
   ]
  },
  {
   "cell_type": "markdown",
   "metadata": {},
   "source": [
    "## 3.5 Analyze Each Neighborhood"
   ]
  },
  {
   "cell_type": "markdown",
   "metadata": {},
   "source": [
    "### 3.5.1 Perform one hot encoding of venue categories"
   ]
  },
  {
   "cell_type": "code",
   "execution_count": 19,
   "metadata": {},
   "outputs": [
    {
     "name": "stdout",
     "output_type": "stream",
     "text": [
      "(1679, 232)\n",
      "(1679, 233)\n"
     ]
    },
    {
     "data": {
      "text/html": [
       "<div>\n",
       "<style scoped>\n",
       "    .dataframe tbody tr th:only-of-type {\n",
       "        vertical-align: middle;\n",
       "    }\n",
       "\n",
       "    .dataframe tbody tr th {\n",
       "        vertical-align: top;\n",
       "    }\n",
       "\n",
       "    .dataframe thead th {\n",
       "        text-align: right;\n",
       "    }\n",
       "</style>\n",
       "<table border=\"1\" class=\"dataframe\">\n",
       "  <thead>\n",
       "    <tr style=\"text-align: right;\">\n",
       "      <th></th>\n",
       "      <th>Neighborhood</th>\n",
       "      <th>Afghan Restaurant</th>\n",
       "      <th>Airport</th>\n",
       "      <th>Airport Food Court</th>\n",
       "      <th>Airport Lounge</th>\n",
       "      <th>Airport Service</th>\n",
       "      <th>Airport Terminal</th>\n",
       "      <th>American Restaurant</th>\n",
       "      <th>Antique Shop</th>\n",
       "      <th>Aquarium</th>\n",
       "      <th>...</th>\n",
       "      <th>Trail</th>\n",
       "      <th>Train Station</th>\n",
       "      <th>Transportation Service</th>\n",
       "      <th>Vegetarian / Vegan Restaurant</th>\n",
       "      <th>Video Game Store</th>\n",
       "      <th>Vietnamese Restaurant</th>\n",
       "      <th>Wine Bar</th>\n",
       "      <th>Wings Joint</th>\n",
       "      <th>Women's Store</th>\n",
       "      <th>Yoga Studio</th>\n",
       "    </tr>\n",
       "  </thead>\n",
       "  <tbody>\n",
       "    <tr>\n",
       "      <td>0</td>\n",
       "      <td>Regent Park / Harbourfront</td>\n",
       "      <td>0</td>\n",
       "      <td>0</td>\n",
       "      <td>0</td>\n",
       "      <td>0</td>\n",
       "      <td>0</td>\n",
       "      <td>0</td>\n",
       "      <td>0</td>\n",
       "      <td>0</td>\n",
       "      <td>0</td>\n",
       "      <td>...</td>\n",
       "      <td>0</td>\n",
       "      <td>0</td>\n",
       "      <td>0</td>\n",
       "      <td>0</td>\n",
       "      <td>0</td>\n",
       "      <td>0</td>\n",
       "      <td>0</td>\n",
       "      <td>0</td>\n",
       "      <td>0</td>\n",
       "      <td>0</td>\n",
       "    </tr>\n",
       "    <tr>\n",
       "      <td>1</td>\n",
       "      <td>Regent Park / Harbourfront</td>\n",
       "      <td>0</td>\n",
       "      <td>0</td>\n",
       "      <td>0</td>\n",
       "      <td>0</td>\n",
       "      <td>0</td>\n",
       "      <td>0</td>\n",
       "      <td>0</td>\n",
       "      <td>0</td>\n",
       "      <td>0</td>\n",
       "      <td>...</td>\n",
       "      <td>0</td>\n",
       "      <td>0</td>\n",
       "      <td>0</td>\n",
       "      <td>0</td>\n",
       "      <td>0</td>\n",
       "      <td>0</td>\n",
       "      <td>0</td>\n",
       "      <td>0</td>\n",
       "      <td>0</td>\n",
       "      <td>0</td>\n",
       "    </tr>\n",
       "  </tbody>\n",
       "</table>\n",
       "<p>2 rows × 233 columns</p>\n",
       "</div>"
      ],
      "text/plain": [
       "                 Neighborhood  Afghan Restaurant  Airport  Airport Food Court  \\\n",
       "0  Regent Park / Harbourfront                  0        0                   0   \n",
       "1  Regent Park / Harbourfront                  0        0                   0   \n",
       "\n",
       "   Airport Lounge  Airport Service  Airport Terminal  American Restaurant  \\\n",
       "0               0                0                 0                    0   \n",
       "1               0                0                 0                    0   \n",
       "\n",
       "   Antique Shop  Aquarium  ...  Trail  Train Station  Transportation Service  \\\n",
       "0             0         0  ...      0              0                       0   \n",
       "1             0         0  ...      0              0                       0   \n",
       "\n",
       "   Vegetarian / Vegan Restaurant  Video Game Store  Vietnamese Restaurant  \\\n",
       "0                              0                 0                      0   \n",
       "1                              0                 0                      0   \n",
       "\n",
       "   Wine Bar  Wings Joint  Women's Store  Yoga Studio  \n",
       "0         0            0              0            0  \n",
       "1         0            0              0            0  \n",
       "\n",
       "[2 rows x 233 columns]"
      ]
     },
     "execution_count": 19,
     "metadata": {},
     "output_type": "execute_result"
    }
   ],
   "source": [
    "# one hot encoding\n",
    "venueOneHot = pd.get_dummies(venues[['Venue Category']], prefix=\"\", prefix_sep=\"\")\n",
    "print(venueOneHot.shape)\n",
    "# add neighborhood column back to dataframe\n",
    "venueOneHot['Neighborhood'] = venues['Neighborhood'] \n",
    "# move neighborhood column to the first column\n",
    "rearrangedColumns = [venueOneHot.columns[-1]] + list(venueOneHot.columns[:-1])\n",
    "venueOneHot = venueOneHot[rearrangedColumns]\n",
    "\n",
    "print(venueOneHot.shape)\n",
    "venueOneHot.head(2)"
   ]
  },
  {
   "cell_type": "markdown",
   "metadata": {},
   "source": [
    "### 3.5.2 Group by Neighborhood and calculate mean of the frequency of occurrence of each category"
   ]
  },
  {
   "cell_type": "code",
   "execution_count": 22,
   "metadata": {},
   "outputs": [
    {
     "name": "stdout",
     "output_type": "stream",
     "text": [
      "(39, 233)\n"
     ]
    },
    {
     "data": {
      "text/html": [
       "<div>\n",
       "<style scoped>\n",
       "    .dataframe tbody tr th:only-of-type {\n",
       "        vertical-align: middle;\n",
       "    }\n",
       "\n",
       "    .dataframe tbody tr th {\n",
       "        vertical-align: top;\n",
       "    }\n",
       "\n",
       "    .dataframe thead th {\n",
       "        text-align: right;\n",
       "    }\n",
       "</style>\n",
       "<table border=\"1\" class=\"dataframe\">\n",
       "  <thead>\n",
       "    <tr style=\"text-align: right;\">\n",
       "      <th></th>\n",
       "      <th>Neighborhood</th>\n",
       "      <th>Afghan Restaurant</th>\n",
       "      <th>Airport</th>\n",
       "      <th>Airport Food Court</th>\n",
       "      <th>Airport Lounge</th>\n",
       "      <th>Airport Service</th>\n",
       "      <th>Airport Terminal</th>\n",
       "      <th>American Restaurant</th>\n",
       "      <th>Antique Shop</th>\n",
       "      <th>Aquarium</th>\n",
       "      <th>...</th>\n",
       "      <th>Trail</th>\n",
       "      <th>Train Station</th>\n",
       "      <th>Transportation Service</th>\n",
       "      <th>Vegetarian / Vegan Restaurant</th>\n",
       "      <th>Video Game Store</th>\n",
       "      <th>Vietnamese Restaurant</th>\n",
       "      <th>Wine Bar</th>\n",
       "      <th>Wings Joint</th>\n",
       "      <th>Women's Store</th>\n",
       "      <th>Yoga Studio</th>\n",
       "    </tr>\n",
       "  </thead>\n",
       "  <tbody>\n",
       "    <tr>\n",
       "      <td>0</td>\n",
       "      <td>Berczy Park</td>\n",
       "      <td>0.0</td>\n",
       "      <td>0.0</td>\n",
       "      <td>0.0</td>\n",
       "      <td>0.0</td>\n",
       "      <td>0.0</td>\n",
       "      <td>0.0</td>\n",
       "      <td>0.0</td>\n",
       "      <td>0.0</td>\n",
       "      <td>0.0</td>\n",
       "      <td>...</td>\n",
       "      <td>0.0</td>\n",
       "      <td>0.0</td>\n",
       "      <td>0.0</td>\n",
       "      <td>0.017544</td>\n",
       "      <td>0.0</td>\n",
       "      <td>0.0</td>\n",
       "      <td>0.0</td>\n",
       "      <td>0.0</td>\n",
       "      <td>0.0</td>\n",
       "      <td>0.000000</td>\n",
       "    </tr>\n",
       "    <tr>\n",
       "      <td>1</td>\n",
       "      <td>Brockton / Parkdale Village / Exhibition Place</td>\n",
       "      <td>0.0</td>\n",
       "      <td>0.0</td>\n",
       "      <td>0.0</td>\n",
       "      <td>0.0</td>\n",
       "      <td>0.0</td>\n",
       "      <td>0.0</td>\n",
       "      <td>0.0</td>\n",
       "      <td>0.0</td>\n",
       "      <td>0.0</td>\n",
       "      <td>...</td>\n",
       "      <td>0.0</td>\n",
       "      <td>0.0</td>\n",
       "      <td>0.0</td>\n",
       "      <td>0.000000</td>\n",
       "      <td>0.0</td>\n",
       "      <td>0.0</td>\n",
       "      <td>0.0</td>\n",
       "      <td>0.0</td>\n",
       "      <td>0.0</td>\n",
       "      <td>0.043478</td>\n",
       "    </tr>\n",
       "  </tbody>\n",
       "</table>\n",
       "<p>2 rows × 233 columns</p>\n",
       "</div>"
      ],
      "text/plain": [
       "                                     Neighborhood  Afghan Restaurant  Airport  \\\n",
       "0                                     Berczy Park                0.0      0.0   \n",
       "1  Brockton / Parkdale Village / Exhibition Place                0.0      0.0   \n",
       "\n",
       "   Airport Food Court  Airport Lounge  Airport Service  Airport Terminal  \\\n",
       "0                 0.0             0.0              0.0               0.0   \n",
       "1                 0.0             0.0              0.0               0.0   \n",
       "\n",
       "   American Restaurant  Antique Shop  Aquarium  ...  Trail  Train Station  \\\n",
       "0                  0.0           0.0       0.0  ...    0.0            0.0   \n",
       "1                  0.0           0.0       0.0  ...    0.0            0.0   \n",
       "\n",
       "   Transportation Service  Vegetarian / Vegan Restaurant  Video Game Store  \\\n",
       "0                     0.0                       0.017544               0.0   \n",
       "1                     0.0                       0.000000               0.0   \n",
       "\n",
       "   Vietnamese Restaurant  Wine Bar  Wings Joint  Women's Store  Yoga Studio  \n",
       "0                    0.0       0.0          0.0            0.0     0.000000  \n",
       "1                    0.0       0.0          0.0            0.0     0.043478  \n",
       "\n",
       "[2 rows x 233 columns]"
      ]
     },
     "execution_count": 22,
     "metadata": {},
     "output_type": "execute_result"
    }
   ],
   "source": [
    "venueByNB= venueOneHot.groupby('Neighborhood').mean().reset_index()\n",
    "print(venueByNB.shape)\n",
    "venueByNB.head(2)"
   ]
  },
  {
   "cell_type": "markdown",
   "metadata": {},
   "source": [
    "### 3.5.3 Prepare Dataframe with most occuring venue categories for each neighborhood"
   ]
  },
  {
   "cell_type": "code",
   "execution_count": 23,
   "metadata": {},
   "outputs": [],
   "source": [
    "# Function to Sort Most Common Venue for each neighborhood\n",
    "def get_most_common_venues(row, num_top_venues):\n",
    "    row_categories = row.iloc[1:]\n",
    "    row_categories_sorted = row_categories.sort_values(ascending=False)\n",
    "    \n",
    "    return row_categories_sorted.index.values[0:num_top_venues]"
   ]
  },
  {
   "cell_type": "code",
   "execution_count": 24,
   "metadata": {},
   "outputs": [
    {
     "name": "stdout",
     "output_type": "stream",
     "text": [
      "(39, 11)\n"
     ]
    },
    {
     "data": {
      "text/html": [
       "<div>\n",
       "<style scoped>\n",
       "    .dataframe tbody tr th:only-of-type {\n",
       "        vertical-align: middle;\n",
       "    }\n",
       "\n",
       "    .dataframe tbody tr th {\n",
       "        vertical-align: top;\n",
       "    }\n",
       "\n",
       "    .dataframe thead th {\n",
       "        text-align: right;\n",
       "    }\n",
       "</style>\n",
       "<table border=\"1\" class=\"dataframe\">\n",
       "  <thead>\n",
       "    <tr style=\"text-align: right;\">\n",
       "      <th></th>\n",
       "      <th>Neighborhood</th>\n",
       "      <th>1st Most Common Venue</th>\n",
       "      <th>2nd Most Common Venue</th>\n",
       "      <th>3rd Most Common Venue</th>\n",
       "      <th>4th Most Common Venue</th>\n",
       "      <th>5th Most Common Venue</th>\n",
       "      <th>6th Most Common Venue</th>\n",
       "      <th>7th Most Common Venue</th>\n",
       "      <th>8th Most Common Venue</th>\n",
       "      <th>9th Most Common Venue</th>\n",
       "      <th>10th Most Common Venue</th>\n",
       "    </tr>\n",
       "  </thead>\n",
       "  <tbody>\n",
       "    <tr>\n",
       "      <td>0</td>\n",
       "      <td>Berczy Park</td>\n",
       "      <td>Coffee Shop</td>\n",
       "      <td>Cocktail Bar</td>\n",
       "      <td>Seafood Restaurant</td>\n",
       "      <td>Bakery</td>\n",
       "      <td>Farmers Market</td>\n",
       "      <td>Beer Bar</td>\n",
       "      <td>Café</td>\n",
       "      <td>Cheese Shop</td>\n",
       "      <td>Restaurant</td>\n",
       "      <td>Liquor Store</td>\n",
       "    </tr>\n",
       "    <tr>\n",
       "      <td>1</td>\n",
       "      <td>Brockton / Parkdale Village / Exhibition Place</td>\n",
       "      <td>Café</td>\n",
       "      <td>Breakfast Spot</td>\n",
       "      <td>Coffee Shop</td>\n",
       "      <td>Yoga Studio</td>\n",
       "      <td>Grocery Store</td>\n",
       "      <td>Pet Store</td>\n",
       "      <td>Performing Arts Venue</td>\n",
       "      <td>Nightclub</td>\n",
       "      <td>Italian Restaurant</td>\n",
       "      <td>Intersection</td>\n",
       "    </tr>\n",
       "  </tbody>\n",
       "</table>\n",
       "</div>"
      ],
      "text/plain": [
       "                                     Neighborhood 1st Most Common Venue  \\\n",
       "0                                     Berczy Park           Coffee Shop   \n",
       "1  Brockton / Parkdale Village / Exhibition Place                  Café   \n",
       "\n",
       "  2nd Most Common Venue 3rd Most Common Venue 4th Most Common Venue  \\\n",
       "0          Cocktail Bar    Seafood Restaurant                Bakery   \n",
       "1        Breakfast Spot           Coffee Shop           Yoga Studio   \n",
       "\n",
       "  5th Most Common Venue 6th Most Common Venue  7th Most Common Venue  \\\n",
       "0        Farmers Market              Beer Bar                   Café   \n",
       "1         Grocery Store             Pet Store  Performing Arts Venue   \n",
       "\n",
       "  8th Most Common Venue 9th Most Common Venue 10th Most Common Venue  \n",
       "0           Cheese Shop            Restaurant           Liquor Store  \n",
       "1             Nightclub    Italian Restaurant           Intersection  "
      ]
     },
     "execution_count": 24,
     "metadata": {},
     "output_type": "execute_result"
    }
   ],
   "source": [
    "num_top_venues = 10\n",
    "\n",
    "# create columns according to number of top venues\n",
    "indicators = ['st', 'nd', 'rd']\n",
    "topVenueDfColumns = ['Neighborhood']\n",
    "for ind in np.arange(num_top_venues):\n",
    "    try:\n",
    "        topVenueDfColumns.append('{}{} Most Common Venue'.format(ind+1, indicators[ind]))\n",
    "    except:\n",
    "        topVenueDfColumns.append('{}th Most Common Venue'.format(ind+1))\n",
    "#print(topVenueDfColumns)\n",
    "\n",
    "# create a new dataframe\n",
    "topCommonVenues = pd.DataFrame(columns=topVenueDfColumns)\n",
    "topCommonVenues['Neighborhood'] = venueByNB['Neighborhood']\n",
    "\n",
    "# Sort Most Common Venue for each neighborhood\n",
    "for ind in np.arange(venueByNB.shape[0]):\n",
    "    topCommonVenues.iloc[ind, 1:] = get_most_common_venues(venueByNB.iloc[ind, :], num_top_venues)\n",
    "    \n",
    "print(topCommonVenues.shape)\n",
    "topCommonVenues.head(2)"
   ]
  },
  {
   "cell_type": "markdown",
   "metadata": {},
   "source": [
    "## 3.6 Cluster Neighborhoods"
   ]
  },
  {
   "cell_type": "markdown",
   "metadata": {},
   "source": [
    "### 3.6.1 Build Models for different K values\n",
    "Iteratively create clusters from minK to maxK and collect the accuracies to plot and choose best K and corressponding cluster"
   ]
  },
  {
   "cell_type": "code",
   "execution_count": 41,
   "metadata": {},
   "outputs": [
    {
     "name": "stdout",
     "output_type": "stream",
     "text": [
      "K, SSE and Drop of SSE Reduction:\n",
      "2 3.010722384850601 0.9781280033989508\n",
      "3 2.4675919045627412 0.5431304802878598\n",
      "4 1.9656765335966548 0.5019153709660864\n",
      "5 1.7169248530783852 0.24875168051826968\n",
      "6 1.4488669227782123 0.2680579303001729\n",
      "7 1.2544224783337679 0.19444444444444442\n",
      "8 1.1576183028790208 0.09680417545474707\n",
      "9 1.0447454674649737 0.11287283541404713\n",
      "10 0.9727997994954576 0.07194566796951607\n"
     ]
    },
    {
     "data": {
      "image/png": "[encoded data removed]",
      "text/plain": [
       "<Figure size 720x432 with 1 Axes>"
      ]
     },
     "metadata": {
      "needs_background": "light"
     },
     "output_type": "display_data"
    }
   ],
   "source": [
    "minK = 1\n",
    "maxK = 10\n",
    "inputData = venueByNB.drop('Neighborhood', 1)\n",
    "\n",
    "kList = list(range(minK, maxK+1))\n",
    "models = []\n",
    "sseList = []  # inertia_ = SSE i.e, Sum of squared distances of data points to their closest cluster center\n",
    "\n",
    "for numClusters in kList:\n",
    "    kMeansModel = KMeans(init = \"k-means++\", n_clusters = numClusters, random_state=3)\n",
    "    kMeansModel.fit(inputData)\n",
    "    models.append(kMeansModel)\n",
    "    sseList.append(kMeansModel.inertia_) \n",
    "\n",
    "print('K, SSE and Drop of SSE Reduction:')\n",
    "for i in range(1, len(kList)):\n",
    "    print(i+1, sseList[i], sseList[i-1]-sseList[i])\n",
    "    \n",
    "# Plot SSE vs Number of Clusters\n",
    "fig = plt.figure(figsize=(10, 6))\n",
    "ax=fig.add_subplot(1, 1, 1)\n",
    "ax.plot(kList, sseList, marker='o')\n",
    "ax.set_ylabel('SSE')\n",
    "ax.set_xlabel('Number of Clusters (K)')\n",
    "ax.grid(True, which='major', axis='both')"
   ]
  },
  {
   "cell_type": "markdown",
   "metadata": {},
   "source": [
    "##### <font color='red'> From above plot we could choose 4 as good number of clusters.</font>\n",
    "  "
   ]
  },
  {
   "cell_type": "code",
   "execution_count": 47,
   "metadata": {},
   "outputs": [
    {
     "data": {
      "text/plain": [
       "array([3, 3, 3, 3, 3, 3, 3, 3, 3, 3, 3, 3, 0, 3, 3, 3, 3, 3, 0, 3, 2, 3,\n",
       "       3, 3, 3, 3, 0, 1, 3, 3, 3, 3, 3, 3, 3, 3, 3, 3, 3])"
      ]
     },
     "execution_count": 47,
     "metadata": {},
     "output_type": "execute_result"
    }
   ],
   "source": [
    "bestK = 4\n",
    "bestKMeansModel = models[bestK-1]\n",
    "#print(bestKMeansModel.labels_.shape)\n",
    "bestKMeansModel.labels_"
   ]
  },
  {
   "cell_type": "markdown",
   "metadata": {},
   "source": [
    "### 3.6.4. Visualize Clusters"
   ]
  },
  {
   "cell_type": "markdown",
   "metadata": {},
   "source": [
    "#### Add Cluster labels to top common venues dataframe"
   ]
  },
  {
   "cell_type": "code",
   "execution_count": 48,
   "metadata": {},
   "outputs": [
    {
     "data": {
      "text/html": [
       "<div>\n",
       "<style scoped>\n",
       "    .dataframe tbody tr th:only-of-type {\n",
       "        vertical-align: middle;\n",
       "    }\n",
       "\n",
       "    .dataframe tbody tr th {\n",
       "        vertical-align: top;\n",
       "    }\n",
       "\n",
       "    .dataframe thead th {\n",
       "        text-align: right;\n",
       "    }\n",
       "</style>\n",
       "<table border=\"1\" class=\"dataframe\">\n",
       "  <thead>\n",
       "    <tr style=\"text-align: right;\">\n",
       "      <th></th>\n",
       "      <th>Cluster Labels</th>\n",
       "      <th>Neighborhood</th>\n",
       "      <th>1st Most Common Venue</th>\n",
       "      <th>2nd Most Common Venue</th>\n",
       "      <th>3rd Most Common Venue</th>\n",
       "      <th>4th Most Common Venue</th>\n",
       "      <th>5th Most Common Venue</th>\n",
       "      <th>6th Most Common Venue</th>\n",
       "      <th>7th Most Common Venue</th>\n",
       "      <th>8th Most Common Venue</th>\n",
       "      <th>9th Most Common Venue</th>\n",
       "      <th>10th Most Common Venue</th>\n",
       "    </tr>\n",
       "  </thead>\n",
       "  <tbody>\n",
       "    <tr>\n",
       "      <td>0</td>\n",
       "      <td>3</td>\n",
       "      <td>Berczy Park</td>\n",
       "      <td>Coffee Shop</td>\n",
       "      <td>Cocktail Bar</td>\n",
       "      <td>Seafood Restaurant</td>\n",
       "      <td>Bakery</td>\n",
       "      <td>Farmers Market</td>\n",
       "      <td>Beer Bar</td>\n",
       "      <td>Café</td>\n",
       "      <td>Cheese Shop</td>\n",
       "      <td>Restaurant</td>\n",
       "      <td>Liquor Store</td>\n",
       "    </tr>\n",
       "    <tr>\n",
       "      <td>1</td>\n",
       "      <td>3</td>\n",
       "      <td>Brockton / Parkdale Village / Exhibition Place</td>\n",
       "      <td>Café</td>\n",
       "      <td>Breakfast Spot</td>\n",
       "      <td>Coffee Shop</td>\n",
       "      <td>Yoga Studio</td>\n",
       "      <td>Grocery Store</td>\n",
       "      <td>Pet Store</td>\n",
       "      <td>Performing Arts Venue</td>\n",
       "      <td>Nightclub</td>\n",
       "      <td>Italian Restaurant</td>\n",
       "      <td>Intersection</td>\n",
       "    </tr>\n",
       "  </tbody>\n",
       "</table>\n",
       "</div>"
      ],
      "text/plain": [
       "   Cluster Labels                                    Neighborhood  \\\n",
       "0               3                                     Berczy Park   \n",
       "1               3  Brockton / Parkdale Village / Exhibition Place   \n",
       "\n",
       "  1st Most Common Venue 2nd Most Common Venue 3rd Most Common Venue  \\\n",
       "0           Coffee Shop          Cocktail Bar    Seafood Restaurant   \n",
       "1                  Café        Breakfast Spot           Coffee Shop   \n",
       "\n",
       "  4th Most Common Venue 5th Most Common Venue 6th Most Common Venue  \\\n",
       "0                Bakery        Farmers Market              Beer Bar   \n",
       "1           Yoga Studio         Grocery Store             Pet Store   \n",
       "\n",
       "   7th Most Common Venue 8th Most Common Venue 9th Most Common Venue  \\\n",
       "0                   Café           Cheese Shop            Restaurant   \n",
       "1  Performing Arts Venue             Nightclub    Italian Restaurant   \n",
       "\n",
       "  10th Most Common Venue  \n",
       "0           Liquor Store  \n",
       "1           Intersection  "
      ]
     },
     "execution_count": 48,
     "metadata": {},
     "output_type": "execute_result"
    }
   ],
   "source": [
    "topVenuesAndLabels = topCommonVenues.copy()\n",
    "topVenuesAndLabels.insert(0, 'Cluster Labels', bestKMeansModel.labels_)\n",
    "topVenuesAndLabels.head(2)"
   ]
  },
  {
   "cell_type": "markdown",
   "metadata": {},
   "source": [
    "#### Merge Labels, Top Common Venues,  Latitude and Longitude Coordinates"
   ]
  },
  {
   "cell_type": "code",
   "execution_count": 49,
   "metadata": {},
   "outputs": [
    {
     "data": {
      "text/html": [
       "<div>\n",
       "<style scoped>\n",
       "    .dataframe tbody tr th:only-of-type {\n",
       "        vertical-align: middle;\n",
       "    }\n",
       "\n",
       "    .dataframe tbody tr th {\n",
       "        vertical-align: top;\n",
       "    }\n",
       "\n",
       "    .dataframe thead th {\n",
       "        text-align: right;\n",
       "    }\n",
       "</style>\n",
       "<table border=\"1\" class=\"dataframe\">\n",
       "  <thead>\n",
       "    <tr style=\"text-align: right;\">\n",
       "      <th></th>\n",
       "      <th>PostalCode</th>\n",
       "      <th>Borough</th>\n",
       "      <th>Neighborhood</th>\n",
       "      <th>Latitude</th>\n",
       "      <th>Longitude</th>\n",
       "      <th>Cluster Labels</th>\n",
       "      <th>1st Most Common Venue</th>\n",
       "      <th>2nd Most Common Venue</th>\n",
       "      <th>3rd Most Common Venue</th>\n",
       "      <th>4th Most Common Venue</th>\n",
       "      <th>5th Most Common Venue</th>\n",
       "      <th>6th Most Common Venue</th>\n",
       "      <th>7th Most Common Venue</th>\n",
       "      <th>8th Most Common Venue</th>\n",
       "      <th>9th Most Common Venue</th>\n",
       "      <th>10th Most Common Venue</th>\n",
       "    </tr>\n",
       "  </thead>\n",
       "  <tbody>\n",
       "    <tr>\n",
       "      <td>0</td>\n",
       "      <td>M5A</td>\n",
       "      <td>Downtown Toronto</td>\n",
       "      <td>Regent Park / Harbourfront</td>\n",
       "      <td>43.654260</td>\n",
       "      <td>-79.360636</td>\n",
       "      <td>3</td>\n",
       "      <td>Coffee Shop</td>\n",
       "      <td>Bakery</td>\n",
       "      <td>Pub</td>\n",
       "      <td>Park</td>\n",
       "      <td>Theater</td>\n",
       "      <td>Breakfast Spot</td>\n",
       "      <td>Restaurant</td>\n",
       "      <td>Café</td>\n",
       "      <td>Mexican Restaurant</td>\n",
       "      <td>Yoga Studio</td>\n",
       "    </tr>\n",
       "    <tr>\n",
       "      <td>1</td>\n",
       "      <td>M7A</td>\n",
       "      <td>Downtown Toronto</td>\n",
       "      <td>Queen's Park / Ontario Provincial Government</td>\n",
       "      <td>43.662301</td>\n",
       "      <td>-79.389494</td>\n",
       "      <td>3</td>\n",
       "      <td>Coffee Shop</td>\n",
       "      <td>Diner</td>\n",
       "      <td>Yoga Studio</td>\n",
       "      <td>Creperie</td>\n",
       "      <td>Mexican Restaurant</td>\n",
       "      <td>Juice Bar</td>\n",
       "      <td>Italian Restaurant</td>\n",
       "      <td>Hobby Shop</td>\n",
       "      <td>Fried Chicken Joint</td>\n",
       "      <td>Distribution Center</td>\n",
       "    </tr>\n",
       "  </tbody>\n",
       "</table>\n",
       "</div>"
      ],
      "text/plain": [
       "  PostalCode           Borough                                  Neighborhood  \\\n",
       "0        M5A  Downtown Toronto                    Regent Park / Harbourfront   \n",
       "1        M7A  Downtown Toronto  Queen's Park / Ontario Provincial Government   \n",
       "\n",
       "    Latitude  Longitude  Cluster Labels 1st Most Common Venue  \\\n",
       "0  43.654260 -79.360636               3           Coffee Shop   \n",
       "1  43.662301 -79.389494               3           Coffee Shop   \n",
       "\n",
       "  2nd Most Common Venue 3rd Most Common Venue 4th Most Common Venue  \\\n",
       "0                Bakery                   Pub                  Park   \n",
       "1                 Diner           Yoga Studio              Creperie   \n",
       "\n",
       "  5th Most Common Venue 6th Most Common Venue 7th Most Common Venue  \\\n",
       "0               Theater        Breakfast Spot            Restaurant   \n",
       "1    Mexican Restaurant             Juice Bar    Italian Restaurant   \n",
       "\n",
       "  8th Most Common Venue 9th Most Common Venue 10th Most Common Venue  \n",
       "0                  Café    Mexican Restaurant            Yoga Studio  \n",
       "1            Hobby Shop   Fried Chicken Joint    Distribution Center  "
      ]
     },
     "execution_count": 49,
     "metadata": {},
     "output_type": "execute_result"
    }
   ],
   "source": [
    "toMerged = neighborhoods.join(topVenuesAndLabels.set_index('Neighborhood'), on='Neighborhood')\n",
    "toMerged['Cluster Labels'] = toMerged['Cluster Labels'].astype('int64')\n",
    "toMerged.head(2)"
   ]
  },
  {
   "cell_type": "code",
   "execution_count": 50,
   "metadata": {},
   "outputs": [
    {
     "data": {
      "text/plain": [
       "3    34\n",
       "0     3\n",
       "2     1\n",
       "1     1\n",
       "Name: Cluster Labels, dtype: int64"
      ]
     },
     "execution_count": 50,
     "metadata": {},
     "output_type": "execute_result"
    }
   ],
   "source": [
    "toMerged['Cluster Labels'].value_counts()"
   ]
  },
  {
   "cell_type": "markdown",
   "metadata": {},
   "source": [
    "#### Display Neighborhood Clusters on Map"
   ]
  },
  {
   "cell_type": "code",
   "execution_count": 51,
   "metadata": {},
   "outputs": [
    {
     "data": {
      "text/plain": [
       "['#8000ff', '#2adddd', '#d4dd80', '#ff0000']"
      ]
     },
     "execution_count": 51,
     "metadata": {},
     "output_type": "execute_result"
    }
   ],
   "source": [
    "# Set color scheme for the clusters\n",
    "colors_array = cm.rainbow(np.linspace(0, 1, bestK))\n",
    "rainbow = [colors.rgb2hex(i) for i in colors_array]\n",
    "rainbow"
   ]
  },
  {
   "cell_type": "code",
   "execution_count": 53,
   "metadata": {},
   "outputs": [
    {
     "data": {
      "text/html": [
       "<div style=\"width:100%;\"><div style=\"position:relative;width:100%;height:0;padding-bottom:60%;\"><iframe src=\"about:blank\" style=\"position:absolute;width:100%;height:100%;left:0;top:0;border:none !important;\" data-html=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 onload=\"this.contentDocument.open();this.contentDocument.write(atob(this.getAttribute('data-html')));this.contentDocument.close();\" allowfullscreen webkitallowfullscreen mozallowfullscreen></iframe></div></div>"
      ],
      "text/plain": [
       "<folium.folium.Map at 0x1b834912908>"
      ]
     },
     "execution_count": 53,
     "metadata": {},
     "output_type": "execute_result"
    }
   ],
   "source": [
    "# Create Toronto Map\n",
    "toClusterMap = folium.Map(location=[toLatitude, toLongitude], zoom_start=11)\n",
    "\n",
    "# add markers to map\n",
    "for lat, lon, nb, cluster in zip(toMerged['Latitude'], toMerged['Longitude'], toMerged['Neighborhood'], toMerged['Cluster Labels']):\n",
    "    label = folium.Popup(str(nb) + ' Cluster ' + str(cluster), parse_html=True)\n",
    "    #print(cluster, rainbow[cluster])\n",
    "    folium.CircleMarker(\n",
    "        [lat, lon],\n",
    "        radius=5,\n",
    "        popup=label,\n",
    "        color=rainbow[cluster],\n",
    "        fill=True,\n",
    "        fill_color=rainbow[cluster],\n",
    "        fill_opacity=0.7).add_to(toClusterMap)\n",
    "\n",
    "toClusterMap"
   ]
  },
  {
   "cell_type": "markdown",
   "metadata": {},
   "source": [
    "## 3.7 Review Clusters and Segment Neighborhoods"
   ]
  },
  {
   "cell_type": "markdown",
   "metadata": {},
   "source": [
    "### 3.7.1 Examine Venues from Each Cluster\n",
    "Let us look at 'Top Most Venue' of 5 'Neighborhoods' from each 'Cluster' and Assign Names to Clusters"
   ]
  },
  {
   "cell_type": "code",
   "execution_count": 68,
   "metadata": {},
   "outputs": [
    {
     "name": "stdout",
     "output_type": "stream",
     "text": [
      "Cluster #: 0\n",
      "\t# Neighborhoods in this cluster: 3\n",
      "\t1st Most Common Venues: ['Park', 'Park', 'Park']\n",
      "\n",
      "Cluster #: 1\n",
      "\t# Neighborhoods in this cluster: 1\n",
      "\t1st Most Common Venues: ['Pool']\n",
      "\n",
      "Cluster #: 2\n",
      "\t# Neighborhoods in this cluster: 1\n",
      "\t1st Most Common Venues: ['Playground']\n",
      "\n",
      "Cluster #: 3\n",
      "\t# Neighborhoods in this cluster: 34\n",
      "\t1st Most Common Venues: ['Coffee Shop', 'Café', 'Light Rail Station', 'Airport Service', 'Coffee Shop']\n",
      "\n"
     ]
    }
   ],
   "source": [
    "for cid in range(0, bestK):\n",
    "    clusterData = topVenuesAndLabels[topVenuesAndLabels['Cluster Labels'] == cid]['1st Most Common Venue'].to_list()\n",
    "    print('Cluster #:', cid)\n",
    "    print('\\t# Neighborhoods in this cluster:', len(clusterData))\n",
    "    print('\\t1st Most Common Venues:', clusterData[0:5])\n",
    "    print()"
   ]
  },
  {
   "cell_type": "markdown",
   "metadata": {},
   "source": [
    "### 3.7.2 Segmentation (Naming Clusters)"
   ]
  },
  {
   "cell_type": "markdown",
   "metadata": {},
   "source": [
    "<font color='red'> Note:  \n",
    "\n",
    "* <font color='red'>Cluster 0 can be named as \"Park\"</font>\n",
    "\n",
    "* <font color='red'>Cluster 1 can be named as \"Pool\"</font>\n",
    "\n",
    "* <font color='red'>Cluster 2 can be named as \"Playground\"</font>\n",
    "\n",
    "* <font color='red'>Cluster 3 can be named as \"Shopping/Travel\"</font>\n",
    "\n",
    "</font>"
   ]
  },
  {
   "cell_type": "code",
   "execution_count": null,
   "metadata": {},
   "outputs": [],
   "source": []
  }
 ],
 "metadata": {
  "kernelspec": {
   "display_name": "Python 3",
   "language": "python",
   "name": "python3"
  },
  "language_info": {
   "codemirror_mode": {
    "name": "ipython",
    "version": 3
   },
   "file_extension": ".py",
   "mimetype": "text/x-python",
   "name": "python",
   "nbconvert_exporter": "python",
   "pygments_lexer": "ipython3",
   "version": "3.7.4"
  }
 },
 "nbformat": 4,
 "nbformat_minor": 2
}
