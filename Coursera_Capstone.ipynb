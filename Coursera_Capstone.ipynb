{
 "cells": [
  {
   "cell_type": "markdown",
   "metadata": {},
   "source": [
    "<h1><center>Applied Data Science Capstone</center></h1>"
   ]
  },
  {
   "cell_type": "markdown",
   "metadata": {},
   "source": [
    "<h1>Project Name: Battle of the neighborhoods</h1>\n",
    "\n",
    "Neighborhood segmentation and clustering to suggesst better one.\n",
    "This notebook will be used to demonstrate skills I've learnt in IBM Data Science courses.\n",
    "\n",
    "GitHub: https://github.com/arunnatarajan80/Coursera_Capstone"
   ]
  },
  {
   "cell_type": "markdown",
   "metadata": {},
   "source": [
    "# Import Libraries"
   ]
  },
  {
   "cell_type": "code",
   "execution_count": 1,
   "metadata": {},
   "outputs": [],
   "source": [
    "import pandas as pd\n",
    "import numpy as np\n",
    "import requests\n",
    "import geocoder\n",
    "from geopy.geocoders import Nominatim\n",
    "import os\n",
    "import warnings\n",
    "warnings.filterwarnings('ignore')\n",
    "\n",
    "# capstone_utilities is developed for this project specifically and same can be found in the github repository of this project\n",
    "from capstone_utilities import getLocation, getNearbyVenues_Multi, getFoursquareCategories"
   ]
  },
  {
   "cell_type": "markdown",
   "metadata": {},
   "source": [
    "# Data Collection"
   ]
  },
  {
   "cell_type": "markdown",
   "metadata": {},
   "source": [
    "## Get Neighborhood and Location Coordinates\n",
    "* Initial neighborhood names was manually collected as csv(cbe_neighborhoods.csv) from https://en.wikipedia.org/wiki/Neighbourhoods_of_Coimbatore\n",
    "* Neighborhood Location Coordinates collected using geopy "
   ]
  },
  {
   "cell_type": "code",
   "execution_count": 58,
   "metadata": {},
   "outputs": [
    {
     "name": "stdout",
     "output_type": "stream",
     "text": [
      "# Neighborhoods: 64\n",
      "# Neighborhoods with missing coordinates: 8\n"
     ]
    },
    {
     "data": {
      "text/html": [
       "<div>\n",
       "<style scoped>\n",
       "    .dataframe tbody tr th:only-of-type {\n",
       "        vertical-align: middle;\n",
       "    }\n",
       "\n",
       "    .dataframe tbody tr th {\n",
       "        vertical-align: top;\n",
       "    }\n",
       "\n",
       "    .dataframe thead th {\n",
       "        text-align: right;\n",
       "    }\n",
       "</style>\n",
       "<table border=\"1\" class=\"dataframe\">\n",
       "  <thead>\n",
       "    <tr style=\"text-align: right;\">\n",
       "      <th></th>\n",
       "      <th>Region</th>\n",
       "      <th>Neighborhood</th>\n",
       "      <th>Latitude</th>\n",
       "      <th>Longitude</th>\n",
       "    </tr>\n",
       "  </thead>\n",
       "  <tbody>\n",
       "    <tr>\n",
       "      <td>0</td>\n",
       "      <td>North</td>\n",
       "      <td>Kavundampalayam</td>\n",
       "      <td>11.045235</td>\n",
       "      <td>76.94722</td>\n",
       "    </tr>\n",
       "    <tr>\n",
       "      <td>1</td>\n",
       "      <td>North</td>\n",
       "      <td>Chinnavedampatti</td>\n",
       "      <td>11.062943</td>\n",
       "      <td>76.98433</td>\n",
       "    </tr>\n",
       "  </tbody>\n",
       "</table>\n",
       "</div>"
      ],
      "text/plain": [
       "  Region      Neighborhood   Latitude  Longitude\n",
       "0  North   Kavundampalayam  11.045235   76.94722\n",
       "1  North  Chinnavedampatti  11.062943   76.98433"
      ]
     },
     "execution_count": 58,
     "metadata": {},
     "output_type": "execute_result"
    }
   ],
   "source": [
    "cbeNB = pd.read_csv('cbe_neighborhoods.csv') # Import Neighborhood Names\n",
    "cbeNB = cbeNB.apply(getLocation, axis=1) # Get Location Coordinates\n",
    "cbeNB.to_csv('cbe_nb_loc.csv', index=False) # Save collected data as csv\n",
    "# Display collected data\n",
    "print('# Neighborhoods:', cbeNB.shape[0])\n",
    "print(\"# Neighborhoods with missing coordinates:\", cbeNB['Latitude'].isnull().sum())\n",
    "cbeNB.head(2)"
   ]
  },
  {
   "cell_type": "markdown",
   "metadata": {},
   "source": [
    "* 8 Neighborhoods are missing location coordinates.\n",
    "* Probably reason for this is sources of Geopy library does not include or spelling issues.\n",
    "* Manually collect coordinates for those and save output file as 'cbe_nb_loc_curated.csv'\n",
    "  * Data Source for missing locations is google search\n",
    "* Reload the data."
   ]
  },
  {
   "cell_type": "code",
   "execution_count": 3,
   "metadata": {
    "scrolled": true
   },
   "outputs": [
    {
     "name": "stdout",
     "output_type": "stream",
     "text": [
      "# Neighborhoods: 64\n",
      "# Neighborhoods with missing coordinates: 0\n"
     ]
    },
    {
     "data": {
      "text/html": [
       "<div>\n",
       "<style scoped>\n",
       "    .dataframe tbody tr th:only-of-type {\n",
       "        vertical-align: middle;\n",
       "    }\n",
       "\n",
       "    .dataframe tbody tr th {\n",
       "        vertical-align: top;\n",
       "    }\n",
       "\n",
       "    .dataframe thead th {\n",
       "        text-align: right;\n",
       "    }\n",
       "</style>\n",
       "<table border=\"1\" class=\"dataframe\">\n",
       "  <thead>\n",
       "    <tr style=\"text-align: right;\">\n",
       "      <th></th>\n",
       "      <th>Region</th>\n",
       "      <th>Neighborhood</th>\n",
       "      <th>Latitude</th>\n",
       "      <th>Longitude</th>\n",
       "    </tr>\n",
       "  </thead>\n",
       "  <tbody>\n",
       "    <tr>\n",
       "      <td>0</td>\n",
       "      <td>North</td>\n",
       "      <td>Kavundampalayam</td>\n",
       "      <td>11.045235</td>\n",
       "      <td>76.94722</td>\n",
       "    </tr>\n",
       "    <tr>\n",
       "      <td>1</td>\n",
       "      <td>North</td>\n",
       "      <td>Chinnavedampatti</td>\n",
       "      <td>11.062943</td>\n",
       "      <td>76.98433</td>\n",
       "    </tr>\n",
       "  </tbody>\n",
       "</table>\n",
       "</div>"
      ],
      "text/plain": [
       "  Region      Neighborhood   Latitude  Longitude\n",
       "0  North   Kavundampalayam  11.045235   76.94722\n",
       "1  North  Chinnavedampatti  11.062943   76.98433"
      ]
     },
     "execution_count": 3,
     "metadata": {},
     "output_type": "execute_result"
    }
   ],
   "source": [
    "cbeNB = pd.read_csv('cbe_nb_loc_curated.csv')\n",
    "print('# Neighborhoods:', cbeNB.shape[0])\n",
    "print(\"# Neighborhoods with missing coordinates:\", cbeNB['Latitude'].isnull().sum())\n",
    "cbeNB.head(2)"
   ]
  },
  {
   "cell_type": "markdown",
   "metadata": {},
   "source": [
    "## Get Neighborhood Venue Details\n",
    "* Data Source: Foursquare\n",
    "* Collect venues using both \"Explore\" and \"Search\" endpoints"
   ]
  },
  {
   "cell_type": "markdown",
   "metadata": {},
   "source": [
    "#### Foursquare API Setup and Utilities"
   ]
  },
  {
   "cell_type": "markdown",
   "metadata": {},
   "source": [
    "<h5>\n",
    "    <font color='red'>\n",
    "        Foursquare API related functions are written separatly in to a python file and imported in this note book.\n",
    "        capstone_utilities.py can be found in the github reporsitory.\n",
    "    </font>\n",
    "</h5>"
   ]
  },
  {
   "cell_type": "markdown",
   "metadata": {},
   "source": [
    "#### Collect reccommended and browsed venues for each neighborhood"
   ]
  },
  {
   "cell_type": "code",
   "execution_count": 4,
   "metadata": {},
   "outputs": [],
   "source": [
    "recommended = getNearbyVenues_Multi('explore', names=cbeNB['Neighborhood'], latitudes=cbeNB['Latitude'],\n",
    "                        longitudes=cbeNB['Longitude'])\n",
    "recommended.to_csv('recommendedVenues.csv', index=False)\n",
    "\n",
    "searched = getNearbyVenues_Multi('search', names=cbeNB['Neighborhood'], latitudes=cbeNB['Latitude'],\n",
    "                        longitudes=cbeNB['Longitude'])\n",
    "searched.to_csv('browsedVenues.csv', index=False)"
   ]
  },
  {
   "cell_type": "code",
   "execution_count": 6,
   "metadata": {},
   "outputs": [
    {
     "name": "stdout",
     "output_type": "stream",
     "text": [
      "# Neighborhoods: 64\n"
     ]
    },
    {
     "data": {
      "text/html": [
       "<div>\n",
       "<style scoped>\n",
       "    .dataframe tbody tr th:only-of-type {\n",
       "        vertical-align: middle;\n",
       "    }\n",
       "\n",
       "    .dataframe tbody tr th {\n",
       "        vertical-align: top;\n",
       "    }\n",
       "\n",
       "    .dataframe thead th {\n",
       "        text-align: right;\n",
       "    }\n",
       "</style>\n",
       "<table border=\"1\" class=\"dataframe\">\n",
       "  <thead>\n",
       "    <tr style=\"text-align: right;\">\n",
       "      <th></th>\n",
       "      <th>Endpoint</th>\n",
       "      <th># Neighborhoods</th>\n",
       "      <th># Venues</th>\n",
       "      <th># Recommended Groups</th>\n",
       "      <th># Venue Categories</th>\n",
       "      <th># Uncategorized Venues</th>\n",
       "    </tr>\n",
       "  </thead>\n",
       "  <tbody>\n",
       "    <tr>\n",
       "      <td>0</td>\n",
       "      <td>Explore</td>\n",
       "      <td>51</td>\n",
       "      <td>177</td>\n",
       "      <td>1</td>\n",
       "      <td>65</td>\n",
       "      <td>0</td>\n",
       "    </tr>\n",
       "    <tr>\n",
       "      <td>1</td>\n",
       "      <td>Browse</td>\n",
       "      <td>64</td>\n",
       "      <td>7472</td>\n",
       "      <td>1</td>\n",
       "      <td>368</td>\n",
       "      <td>376</td>\n",
       "    </tr>\n",
       "  </tbody>\n",
       "</table>\n",
       "</div>"
      ],
      "text/plain": [
       "  Endpoint # Neighborhoods # Venues # Recommended Groups # Venue Categories  \\\n",
       "0  Explore              51      177                    1                 65   \n",
       "1   Browse              64     7472                    1                368   \n",
       "\n",
       "  # Uncategorized Venues  \n",
       "0                      0  \n",
       "1                    376  "
      ]
     },
     "execution_count": 6,
     "metadata": {},
     "output_type": "execute_result"
    }
   ],
   "source": [
    "venueStatDf = pd.DataFrame(columns=['Endpoint', '# Neighborhoods', '# Venues', \n",
    "                                    '# Recommended Groups',\n",
    "                                    '# Venue Categories',\n",
    "                                    '# Uncategorized Venues'])\n",
    "\n",
    "venueStatDf.loc[len(venueStatDf)] = ['Explore', len(recommended['Neighborhood'].unique()), recommended.shape[0],\n",
    "                                     len(recommended['Recommendation Group Type'].unique()),\n",
    "                                     len(recommended['Venue Category'].unique()),\n",
    "                                     recommended['Venue Category'].isnull().sum()]\n",
    "\n",
    "venueStatDf.loc[len(venueStatDf)] = ['Browse', len(searched['Neighborhood'].unique()), searched.shape[0],\n",
    "                                     len(searched['Recommendation Group Type'].unique()),\n",
    "                                     len(searched['Venue Category'].unique()),\n",
    "                                     searched['Venue Category'].isnull().sum()]\n",
    "\n",
    "print('# Neighborhoods:', cbeNB.shape[0])\n",
    "venueStatDf.head()"
   ]
  },
  {
   "cell_type": "markdown",
   "metadata": {},
   "source": [
    "#### Check if all recommended venus are found in search results, otherwise merge both"
   ]
  },
  {
   "cell_type": "code",
   "execution_count": 7,
   "metadata": {},
   "outputs": [
    {
     "name": "stdout",
     "output_type": "stream",
     "text": [
      "# Recommended Venues missing in search Results: 28\n",
      "# Venues after merge: 7500\n"
     ]
    },
    {
     "data": {
      "text/html": [
       "<div>\n",
       "<style scoped>\n",
       "    .dataframe tbody tr th:only-of-type {\n",
       "        vertical-align: middle;\n",
       "    }\n",
       "\n",
       "    .dataframe tbody tr th {\n",
       "        vertical-align: top;\n",
       "    }\n",
       "\n",
       "    .dataframe thead th {\n",
       "        text-align: right;\n",
       "    }\n",
       "</style>\n",
       "<table border=\"1\" class=\"dataframe\">\n",
       "  <thead>\n",
       "    <tr style=\"text-align: right;\">\n",
       "      <th></th>\n",
       "      <th>Neighborhood</th>\n",
       "      <th>Neighborhood Latitude</th>\n",
       "      <th>Neighborhood Longitude</th>\n",
       "      <th>Recommendation Group Type</th>\n",
       "      <th>Recommendation Group Name</th>\n",
       "      <th>Venue</th>\n",
       "      <th>Venue Id</th>\n",
       "      <th>Venue Latitude</th>\n",
       "      <th>Venue Longitude</th>\n",
       "      <th>Venue Category</th>\n",
       "    </tr>\n",
       "  </thead>\n",
       "  <tbody>\n",
       "    <tr>\n",
       "      <td>0</td>\n",
       "      <td>Kavundampalayam</td>\n",
       "      <td>11.045235</td>\n",
       "      <td>76.94722</td>\n",
       "      <td>Not Applicable</td>\n",
       "      <td>Not Applicable</td>\n",
       "      <td>Kavundampalayam</td>\n",
       "      <td>4f79a492e4b00df15d98eb12</td>\n",
       "      <td>11.044891</td>\n",
       "      <td>76.947559</td>\n",
       "      <td>Parking</td>\n",
       "    </tr>\n",
       "    <tr>\n",
       "      <td>1</td>\n",
       "      <td>Kavundampalayam</td>\n",
       "      <td>11.045235</td>\n",
       "      <td>76.94722</td>\n",
       "      <td>Not Applicable</td>\n",
       "      <td>Not Applicable</td>\n",
       "      <td>Sabari Bakery</td>\n",
       "      <td>5259e17f11d26f0160e95c89</td>\n",
       "      <td>11.042948</td>\n",
       "      <td>76.948176</td>\n",
       "      <td>Bakery</td>\n",
       "    </tr>\n",
       "  </tbody>\n",
       "</table>\n",
       "</div>"
      ],
      "text/plain": [
       "      Neighborhood  Neighborhood Latitude  Neighborhood Longitude  \\\n",
       "0  Kavundampalayam              11.045235                76.94722   \n",
       "1  Kavundampalayam              11.045235                76.94722   \n",
       "\n",
       "  Recommendation Group Type Recommendation Group Name            Venue  \\\n",
       "0            Not Applicable            Not Applicable  Kavundampalayam   \n",
       "1            Not Applicable            Not Applicable    Sabari Bakery   \n",
       "\n",
       "                   Venue Id  Venue Latitude  Venue Longitude Venue Category  \n",
       "0  4f79a492e4b00df15d98eb12       11.044891        76.947559        Parking  \n",
       "1  5259e17f11d26f0160e95c89       11.042948        76.948176         Bakery  "
      ]
     },
     "execution_count": 7,
     "metadata": {},
     "output_type": "execute_result"
    }
   ],
   "source": [
    "recommededNotInSearched = recommended[~(recommended['Venue Id'].isin(searched['Venue Id']))]\n",
    "allVenues = searched.append(recommededNotInSearched)\n",
    "print('# Recommended Venues missing in search Results:', recommededNotInSearched.shape[0])\n",
    "print('# Venues after merge:', allVenues.shape[0])\n",
    "allVenues.head(2)"
   ]
  },
  {
   "cell_type": "markdown",
   "metadata": {},
   "source": [
    "#### Drop Venues who name equals any of the neighborhoods Neighborhood\n",
    "Since from above visualization we can notice from the first row that the Neighborhood and Venue Name are same\n",
    "Such records are not useful for project objectives, hence drop them."
   ]
  },
  {
   "cell_type": "code",
   "execution_count": 8,
   "metadata": {},
   "outputs": [
    {
     "name": "stdout",
     "output_type": "stream",
     "text": [
      "(7459, 10)\n"
     ]
    },
    {
     "data": {
      "text/html": [
       "<div>\n",
       "<style scoped>\n",
       "    .dataframe tbody tr th:only-of-type {\n",
       "        vertical-align: middle;\n",
       "    }\n",
       "\n",
       "    .dataframe tbody tr th {\n",
       "        vertical-align: top;\n",
       "    }\n",
       "\n",
       "    .dataframe thead th {\n",
       "        text-align: right;\n",
       "    }\n",
       "</style>\n",
       "<table border=\"1\" class=\"dataframe\">\n",
       "  <thead>\n",
       "    <tr style=\"text-align: right;\">\n",
       "      <th></th>\n",
       "      <th>Neighborhood</th>\n",
       "      <th>Neighborhood Latitude</th>\n",
       "      <th>Neighborhood Longitude</th>\n",
       "      <th>Recommendation Group Type</th>\n",
       "      <th>Recommendation Group Name</th>\n",
       "      <th>Venue</th>\n",
       "      <th>Venue Id</th>\n",
       "      <th>Venue Latitude</th>\n",
       "      <th>Venue Longitude</th>\n",
       "      <th>Venue Category</th>\n",
       "    </tr>\n",
       "  </thead>\n",
       "  <tbody>\n",
       "    <tr>\n",
       "      <td>1</td>\n",
       "      <td>Kavundampalayam</td>\n",
       "      <td>11.045235</td>\n",
       "      <td>76.94722</td>\n",
       "      <td>Not Applicable</td>\n",
       "      <td>Not Applicable</td>\n",
       "      <td>Sabari Bakery</td>\n",
       "      <td>5259e17f11d26f0160e95c89</td>\n",
       "      <td>11.042948</td>\n",
       "      <td>76.948176</td>\n",
       "      <td>Bakery</td>\n",
       "    </tr>\n",
       "    <tr>\n",
       "      <td>2</td>\n",
       "      <td>Kavundampalayam</td>\n",
       "      <td>11.045235</td>\n",
       "      <td>76.94722</td>\n",
       "      <td>Not Applicable</td>\n",
       "      <td>Not Applicable</td>\n",
       "      <td>Ayyappas Restaurant</td>\n",
       "      <td>4d5622e7cff7721e176cb2f5</td>\n",
       "      <td>11.045734</td>\n",
       "      <td>76.946890</td>\n",
       "      <td>NaN</td>\n",
       "    </tr>\n",
       "  </tbody>\n",
       "</table>\n",
       "</div>"
      ],
      "text/plain": [
       "      Neighborhood  Neighborhood Latitude  Neighborhood Longitude  \\\n",
       "1  Kavundampalayam              11.045235                76.94722   \n",
       "2  Kavundampalayam              11.045235                76.94722   \n",
       "\n",
       "  Recommendation Group Type Recommendation Group Name                Venue  \\\n",
       "1            Not Applicable            Not Applicable        Sabari Bakery   \n",
       "2            Not Applicable            Not Applicable  Ayyappas Restaurant   \n",
       "\n",
       "                   Venue Id  Venue Latitude  Venue Longitude Venue Category  \n",
       "1  5259e17f11d26f0160e95c89       11.042948        76.948176         Bakery  \n",
       "2  4d5622e7cff7721e176cb2f5       11.045734        76.946890            NaN  "
      ]
     },
     "execution_count": 8,
     "metadata": {},
     "output_type": "execute_result"
    }
   ],
   "source": [
    "allVenues = allVenues[~(allVenues['Venue'].str.lower().isin(cbeNB['Neighborhood'].str.lower()))]\n",
    "print(allVenues.shape)\n",
    "allVenues.head(2)"
   ]
  },
  {
   "cell_type": "markdown",
   "metadata": {},
   "source": [
    "## Get Venue Categories\n",
    "* Foursquare Categories are organized as muti-level hierarchical structure\n",
    "* For to simplify all further processing, categories will be collected in 2-Level hierarchy (Top Level, Children)\n",
    "* Data Source: Foursquare\n",
    "* Collect using \"categories\" endpoint"
   ]
  },
  {
   "cell_type": "code",
   "execution_count": 9,
   "metadata": {},
   "outputs": [
    {
     "name": "stdout",
     "output_type": "stream",
     "text": [
      "# Top Level Categories: 10\n",
      "# Sub/Child Categories: 933\n",
      "Length of Category DataFrame: 933\n"
     ]
    },
    {
     "data": {
      "text/html": [
       "<div>\n",
       "<style scoped>\n",
       "    .dataframe tbody tr th:only-of-type {\n",
       "        vertical-align: middle;\n",
       "    }\n",
       "\n",
       "    .dataframe tbody tr th {\n",
       "        vertical-align: top;\n",
       "    }\n",
       "\n",
       "    .dataframe thead th {\n",
       "        text-align: right;\n",
       "    }\n",
       "</style>\n",
       "<table border=\"1\" class=\"dataframe\">\n",
       "  <thead>\n",
       "    <tr style=\"text-align: right;\">\n",
       "      <th></th>\n",
       "      <th>Top Category</th>\n",
       "      <th>Sub Category</th>\n",
       "    </tr>\n",
       "  </thead>\n",
       "  <tbody>\n",
       "    <tr>\n",
       "      <td>0</td>\n",
       "      <td>Arts &amp; Entertainment</td>\n",
       "      <td>Amphitheater</td>\n",
       "    </tr>\n",
       "    <tr>\n",
       "      <td>1</td>\n",
       "      <td>Arts &amp; Entertainment</td>\n",
       "      <td>Aquarium</td>\n",
       "    </tr>\n",
       "  </tbody>\n",
       "</table>\n",
       "</div>"
      ],
      "text/plain": [
       "           Top Category  Sub Category\n",
       "0  Arts & Entertainment  Amphitheater\n",
       "1  Arts & Entertainment      Aquarium"
      ]
     },
     "execution_count": 9,
     "metadata": {},
     "output_type": "execute_result"
    }
   ],
   "source": [
    "#fsCategories = getFoursquareCategories()\n",
    "fsCategories = pd.read_excel('FoursquareCategories.xlsx')\n",
    "print('# Top Level Categories:', len(fsCategories['Top Category'].unique()))\n",
    "print('# Sub/Child Categories:', len(fsCategories['Sub Category'].unique()))\n",
    "print('Length of Category DataFrame:', fsCategories.shape[0])\n",
    "fsCategories.head(2)"
   ]
  },
  {
   "cell_type": "markdown",
   "metadata": {},
   "source": [
    "## Data Preparation / Refining Dataset"
   ]
  },
  {
   "cell_type": "markdown",
   "metadata": {},
   "source": [
    "### Isolate Venue(Name) and Venue Category Columns\n",
    "Rest of the columns in the collected data set would not be necessary for further analysis and modeling"
   ]
  },
  {
   "cell_type": "code",
   "execution_count": 10,
   "metadata": {},
   "outputs": [
    {
     "data": {
      "text/html": [
       "<div>\n",
       "<style scoped>\n",
       "    .dataframe tbody tr th:only-of-type {\n",
       "        vertical-align: middle;\n",
       "    }\n",
       "\n",
       "    .dataframe tbody tr th {\n",
       "        vertical-align: top;\n",
       "    }\n",
       "\n",
       "    .dataframe thead th {\n",
       "        text-align: right;\n",
       "    }\n",
       "</style>\n",
       "<table border=\"1\" class=\"dataframe\">\n",
       "  <thead>\n",
       "    <tr style=\"text-align: right;\">\n",
       "      <th></th>\n",
       "      <th>Venue</th>\n",
       "      <th>Category</th>\n",
       "    </tr>\n",
       "  </thead>\n",
       "  <tbody>\n",
       "    <tr>\n",
       "      <td>1</td>\n",
       "      <td>Sabari Bakery</td>\n",
       "      <td>Bakery</td>\n",
       "    </tr>\n",
       "    <tr>\n",
       "      <td>2</td>\n",
       "      <td>Ayyappas Restaurant</td>\n",
       "      <td>NaN</td>\n",
       "    </tr>\n",
       "  </tbody>\n",
       "</table>\n",
       "</div>"
      ],
      "text/plain": [
       "                 Venue Category\n",
       "1        Sabari Bakery   Bakery\n",
       "2  Ayyappas Restaurant      NaN"
      ]
     },
     "execution_count": 10,
     "metadata": {},
     "output_type": "execute_result"
    }
   ],
   "source": [
    "baseData = allVenues[['Venue', 'Venue Category']]\n",
    "baseData.columns = ['Venue', 'Category']\n",
    "baseData.head(2)"
   ]
  },
  {
   "cell_type": "markdown",
   "metadata": {},
   "source": [
    "### Split Dataset in to Uncategorized and Categorized Venues"
   ]
  },
  {
   "cell_type": "code",
   "execution_count": 11,
   "metadata": {},
   "outputs": [
    {
     "name": "stdout",
     "output_type": "stream",
     "text": [
      "# Uncategorized Venus: 370\n",
      "# Categorized Venus: 7089\n"
     ]
    }
   ],
   "source": [
    "uncategorized = baseData[baseData['Category'].isnull()]\n",
    "categorized = baseData[~(baseData['Category'].isnull())]\n",
    "print('# Uncategorized Venus:', uncategorized.shape[0])\n",
    "print('# Categorized Venus:', categorized.shape[0])"
   ]
  },
  {
   "cell_type": "markdown",
   "metadata": {},
   "source": [
    "### Add Root Category (Top level category as per Foursquare Category Hierarchy)"
   ]
  },
  {
   "cell_type": "code",
   "execution_count": 12,
   "metadata": {},
   "outputs": [
    {
     "data": {
      "text/html": [
       "<div>\n",
       "<style scoped>\n",
       "    .dataframe tbody tr th:only-of-type {\n",
       "        vertical-align: middle;\n",
       "    }\n",
       "\n",
       "    .dataframe tbody tr th {\n",
       "        vertical-align: top;\n",
       "    }\n",
       "\n",
       "    .dataframe thead th {\n",
       "        text-align: right;\n",
       "    }\n",
       "</style>\n",
       "<table border=\"1\" class=\"dataframe\">\n",
       "  <thead>\n",
       "    <tr style=\"text-align: right;\">\n",
       "      <th></th>\n",
       "      <th>Venue</th>\n",
       "      <th>Category</th>\n",
       "      <th>RootCategory</th>\n",
       "    </tr>\n",
       "  </thead>\n",
       "  <tbody>\n",
       "    <tr>\n",
       "      <td>1</td>\n",
       "      <td>Sabari Bakery</td>\n",
       "      <td>Bakery</td>\n",
       "      <td>Food</td>\n",
       "    </tr>\n",
       "    <tr>\n",
       "      <td>3</td>\n",
       "      <td>Ayyappa's Pearl Wedding Hall</td>\n",
       "      <td>Event Space</td>\n",
       "      <td>Professional &amp; Other Places</td>\n",
       "    </tr>\n",
       "    <tr>\n",
       "      <td>4</td>\n",
       "      <td>Thangam Arisi Mandi</td>\n",
       "      <td>Grocery Store</td>\n",
       "      <td>Shop &amp; Service</td>\n",
       "    </tr>\n",
       "    <tr>\n",
       "      <td>5</td>\n",
       "      <td>Chandra Hyundai Service Centre</td>\n",
       "      <td>Automotive Shop</td>\n",
       "      <td>Shop &amp; Service</td>\n",
       "    </tr>\n",
       "    <tr>\n",
       "      <td>6</td>\n",
       "      <td>Kalpana Theatre</td>\n",
       "      <td>Theater</td>\n",
       "      <td>Arts &amp; Entertainment</td>\n",
       "    </tr>\n",
       "  </tbody>\n",
       "</table>\n",
       "</div>"
      ],
      "text/plain": [
       "                            Venue         Category  \\\n",
       "1                   Sabari Bakery           Bakery   \n",
       "3    Ayyappa's Pearl Wedding Hall      Event Space   \n",
       "4             Thangam Arisi Mandi    Grocery Store   \n",
       "5  Chandra Hyundai Service Centre  Automotive Shop   \n",
       "6                 Kalpana Theatre          Theater   \n",
       "\n",
       "                  RootCategory  \n",
       "1                         Food  \n",
       "3  Professional & Other Places  \n",
       "4               Shop & Service  \n",
       "5               Shop & Service  \n",
       "6         Arts & Entertainment  "
      ]
     },
     "execution_count": 12,
     "metadata": {},
     "output_type": "execute_result"
    }
   ],
   "source": [
    "def getRootCategory(row):\n",
    "    #print(row['Category'])\n",
    "    tc = fsCategories[fsCategories['Sub Category']==row['Category']]\n",
    "    rootCategory = tc.iloc[0]['Top Category'] if len(tc) > 0 else row['Category']\n",
    "    return rootCategory\n",
    "\n",
    "categorized['RootCategory'] = categorized.apply(getRootCategory, axis=1)\n",
    "categorized.head()"
   ]
  },
  {
   "cell_type": "markdown",
   "metadata": {},
   "source": [
    "# Exploratory Data Analysis"
   ]
  },
  {
   "cell_type": "markdown",
   "metadata": {},
   "source": [
    "## Basic Summary of Dataset"
   ]
  },
  {
   "cell_type": "code",
   "execution_count": 13,
   "metadata": {},
   "outputs": [
    {
     "name": "stdout",
     "output_type": "stream",
     "text": [
      "# Venues: 7089\n",
      "# Categories: 368\n",
      "# Root Categories: 10\n"
     ]
    }
   ],
   "source": [
    "print('# Venues:', categorized.shape[0])\n",
    "print('# Categories:', len(categorized['Category'].unique()))\n",
    "print('# Root Categories:', len(categorized['RootCategory'].unique()))"
   ]
  },
  {
   "cell_type": "markdown",
   "metadata": {},
   "source": [
    "## Visualize Categories"
   ]
  },
  {
   "cell_type": "code",
   "execution_count": 14,
   "metadata": {},
   "outputs": [],
   "source": [
    "import matplotlib.pyplot as plt\n",
    "import seaborn as sns\n",
    "%matplotlib inline\n",
    "\n",
    "def barPlot(x,y,title):\n",
    "    fig = plt.figure(figsize=(15,5))\n",
    "    ax = sns.barplot(x,y)#, alpha=0.8)\n",
    "    ax.set_title(title, fontsize=16)\n",
    "    ax.set_xticklabels(x, rotation=90)\n",
    "    \n",
    "    for patch in ax.patches:\n",
    "        h = int(patch.get_height())\n",
    "        w = patch.get_width()\n",
    "        xpos = patch.get_x() + w/2\n",
    "        ax.annotate('{}'.format(h), xy=(xpos, h), xytext=(0, 2),  textcoords=\"offset points\", ha='center', va='bottom', fontsize=14)\n"
   ]
  },
  {
   "cell_type": "code",
   "execution_count": 15,
   "metadata": {},
   "outputs": [
    {
     "data": {
      "image/png": "[encoded data removed]",
      "text/plain": [
       "<Figure size 1080x360 with 1 Axes>"
      ]
     },
     "metadata": {
      "needs_background": "light"
     },
     "output_type": "display_data"
    }
   ],
   "source": [
    "rootCategoryCounts = categorized.RootCategory.value_counts()\n",
    "barPlot(rootCategoryCounts.index, rootCategoryCounts.values, 'Venue Root Categories')"
   ]
  },
  {
   "cell_type": "code",
   "execution_count": 16,
   "metadata": {},
   "outputs": [
    {
     "data": {
      "image/png": "[encoded data removed]",
      "text/plain": [
       "<Figure size 1080x360 with 1 Axes>"
      ]
     },
     "metadata": {
      "needs_background": "light"
     },
     "output_type": "display_data"
    }
   ],
   "source": [
    "categoryCounts = categorized.Category.value_counts()\n",
    "categoryCounts = categoryCounts[:50,]\n",
    "barPlot(categoryCounts.index, categoryCounts.values, 'Top 50 Venue Categories')"
   ]
  },
  {
   "cell_type": "markdown",
   "metadata": {},
   "source": [
    "## Imbalanced Category Distribution\n",
    "Dataset is highly imbalanced amoung Categories and Root Categories, Inorder simplify the problem we could consider only root category as our final outcome and also drop \"Event\" RootCategory as there is only one occurance found"
   ]
  },
  {
   "cell_type": "code",
   "execution_count": 17,
   "metadata": {},
   "outputs": [
    {
     "name": "stdout",
     "output_type": "stream",
     "text": [
      "# Venues: 7088\n",
      "# Root Categories: 9\n"
     ]
    },
    {
     "data": {
      "text/html": [
       "<div>\n",
       "<style scoped>\n",
       "    .dataframe tbody tr th:only-of-type {\n",
       "        vertical-align: middle;\n",
       "    }\n",
       "\n",
       "    .dataframe tbody tr th {\n",
       "        vertical-align: top;\n",
       "    }\n",
       "\n",
       "    .dataframe thead th {\n",
       "        text-align: right;\n",
       "    }\n",
       "</style>\n",
       "<table border=\"1\" class=\"dataframe\">\n",
       "  <thead>\n",
       "    <tr style=\"text-align: right;\">\n",
       "      <th></th>\n",
       "      <th>Venue</th>\n",
       "      <th>RootCategory</th>\n",
       "    </tr>\n",
       "  </thead>\n",
       "  <tbody>\n",
       "    <tr>\n",
       "      <td>1</td>\n",
       "      <td>Sabari Bakery</td>\n",
       "      <td>Food</td>\n",
       "    </tr>\n",
       "    <tr>\n",
       "      <td>3</td>\n",
       "      <td>Ayyappa's Pearl Wedding Hall</td>\n",
       "      <td>Professional &amp; Other Places</td>\n",
       "    </tr>\n",
       "    <tr>\n",
       "      <td>4</td>\n",
       "      <td>Thangam Arisi Mandi</td>\n",
       "      <td>Shop &amp; Service</td>\n",
       "    </tr>\n",
       "    <tr>\n",
       "      <td>5</td>\n",
       "      <td>Chandra Hyundai Service Centre</td>\n",
       "      <td>Shop &amp; Service</td>\n",
       "    </tr>\n",
       "    <tr>\n",
       "      <td>6</td>\n",
       "      <td>Kalpana Theatre</td>\n",
       "      <td>Arts &amp; Entertainment</td>\n",
       "    </tr>\n",
       "  </tbody>\n",
       "</table>\n",
       "</div>"
      ],
      "text/plain": [
       "                            Venue                 RootCategory\n",
       "1                   Sabari Bakery                         Food\n",
       "3    Ayyappa's Pearl Wedding Hall  Professional & Other Places\n",
       "4             Thangam Arisi Mandi               Shop & Service\n",
       "5  Chandra Hyundai Service Centre               Shop & Service\n",
       "6                 Kalpana Theatre         Arts & Entertainment"
      ]
     },
     "execution_count": 17,
     "metadata": {},
     "output_type": "execute_result"
    }
   ],
   "source": [
    "categorized.drop(columns='Category', inplace=True)\n",
    "categorized = categorized[~(categorized.RootCategory == 'Event')]\n",
    "print('# Venues:', categorized.shape[0])\n",
    "print('# Root Categories:', len(categorized['RootCategory'].unique()))\n",
    "categorized.head()"
   ]
  },
  {
   "cell_type": "markdown",
   "metadata": {},
   "source": [
    "# Data Pre-Processing"
   ]
  },
  {
   "cell_type": "markdown",
   "metadata": {},
   "source": [
    "## Dataset Split\n",
    "Let us split the dataset using StratifiedShuffleSplit of sklearn so that we get balanced split amoung all classes\n",
    "Tainset will have 90% of records and 10% will be used for testing"
   ]
  },
  {
   "cell_type": "code",
   "execution_count": 18,
   "metadata": {},
   "outputs": [
    {
     "name": "stdout",
     "output_type": "stream",
     "text": [
      "Training Set Shape (5670, 2)\n",
      "Testing Set Shape (1418, 2)\n"
     ]
    }
   ],
   "source": [
    "from sklearn.model_selection import StratifiedShuffleSplit\n",
    "stratifiedShuffleSplitter = StratifiedShuffleSplit(n_splits=1, test_size=0.2)\n",
    "splitIndexData = stratifiedShuffleSplitter.split(categorized.Venue, categorized.RootCategory)\n",
    "\n",
    "trainSet = pd.DataFrame()\n",
    "testSet = pd.DataFrame()\n",
    "for trainIndices, testIndices in splitIndexData:\n",
    "    trainSet=categorized.iloc[trainIndices]\n",
    "    testSet=categorized.iloc[testIndices]\n",
    "\n",
    "print('Training Set Shape', trainSet.shape)\n",
    "print('Testing Set Shape',testSet.shape)"
   ]
  },
  {
   "cell_type": "markdown",
   "metadata": {},
   "source": [
    "## Text Data Trsnformation using sklearn's TfidfVectorizer\n",
    "#### TfidfVectorizer combines following steps\n",
    "* First use Sklearn CountVectorizer to transform venue names to bag of words vector by which each word in venue name is counted full vocabulary of words from all Venue Names\n",
    "* Second use Sklearn TfidfTransformer to transform the word count vector in to TF-IDF feature vector (For explanation of TF-IDF https://en.wikipedia.org/wiki/Tf%E2%80%93idf)"
   ]
  },
  {
   "cell_type": "code",
   "execution_count": 19,
   "metadata": {},
   "outputs": [],
   "source": [
    "from sklearn.feature_extraction.text import TfidfVectorizer\n",
    "tfidfVectorizer = TfidfVectorizer().fit(trainSet.Venue)\n",
    "Xtrain = tfidfVectorizer.transform(trainSet.Venue)\n",
    "ytrain = trainSet.RootCategory.to_numpy(copy=True)\n",
    "Xtest = tfidfVectorizer.transform(testSet.Venue)\n",
    "ytest = testSet.RootCategory.to_numpy(copy=True)"
   ]
  },
  {
   "cell_type": "markdown",
   "metadata": {},
   "source": [
    "# Classification Models\n",
    "Following algorithms will be evaluated \n",
    "- K Nearest Neighbor(KNN)\n",
    "- Decision Tree\n",
    "- Support Vector Machine\n",
    "- Logistic Regression"
   ]
  },
  {
   "cell_type": "code",
   "execution_count": 20,
   "metadata": {},
   "outputs": [],
   "source": [
    "allModels = []"
   ]
  },
  {
   "cell_type": "markdown",
   "metadata": {},
   "source": [
    "## K Nearest Neighbor(KNN)"
   ]
  },
  {
   "cell_type": "markdown",
   "metadata": {},
   "source": [
    "### Prepare KNN Training and Validation Datasets"
   ]
  },
  {
   "cell_type": "code",
   "execution_count": 21,
   "metadata": {},
   "outputs": [
    {
     "name": "stdout",
     "output_type": "stream",
     "text": [
      "KNN Training Set Shape (4536, 3347)\n",
      "KNN Validation Set Shape (1134, 3347)\n"
     ]
    }
   ],
   "source": [
    "knnTrainX = None\n",
    "knnTrainY = None\n",
    "knnValidationX = None\n",
    "knnValidationY = None\n",
    "knnSplit = stratifiedShuffleSplitter.split(Xtrain, ytrain)\n",
    "for knnTrainIndices, knnValidationIndices in knnSplit:\n",
    "    knnTrainX=Xtrain[knnTrainIndices]\n",
    "    knnTrainY=ytrain[knnTrainIndices]\n",
    "    knnValidationX=Xtrain[knnValidationIndices]\n",
    "    knnValidationY=ytrain[knnValidationIndices]\n",
    "\n",
    "print('KNN Training Set Shape', knnTrainX.shape)\n",
    "print('KNN Validation Set Shape', knnValidationX.shape)"
   ]
  },
  {
   "cell_type": "markdown",
   "metadata": {},
   "source": [
    "### Train KNN Models for a range of K Values"
   ]
  },
  {
   "cell_type": "code",
   "execution_count": 22,
   "metadata": {},
   "outputs": [
    {
     "data": {
      "image/png": "[encoded data removed]",
      "text/plain": [
       "<Figure size 432x288 with 1 Axes>"
      ]
     },
     "metadata": {
      "needs_background": "light"
     },
     "output_type": "display_data"
    },
    {
     "name": "stdout",
     "output_type": "stream",
     "text": [
      "Best K=1 at Validation Accuracy=0.77...!!!\n",
      "# Models: 1\n"
     ]
    }
   ],
   "source": [
    "from sklearn.neighbors import KNeighborsClassifier\n",
    "from sklearn import metrics\n",
    "k_max = 20\n",
    "mean_acc = np.zeros(k_max)\n",
    "std_acc = np.zeros(k_max)\n",
    "models = []\n",
    "for numNeighbors in range(1,k_max+1): # k_max +1 is used because range() does not include the stop value\n",
    "    #Train Model and Predict  \n",
    "    knnClf = KNeighborsClassifier(n_neighbors = numNeighbors).fit(knnTrainX, knnTrainY)\n",
    "    yhat=knnClf.predict(knnValidationX)\n",
    "    mean_acc[numNeighbors-1] = metrics.accuracy_score(knnValidationY, yhat)\n",
    "    std_acc[numNeighbors-1]=np.std(yhat==knnValidationY)/np.sqrt(yhat.shape[0])\n",
    "    models.append(knnClf)\n",
    "\n",
    "# Plot Accuracy Change over increasing K\n",
    "plt.plot(range(1,k_max+1),mean_acc,'g')\n",
    "plt.fill_between(range(1,k_max+1), mean_acc - 1 * std_acc,mean_acc + 1 * std_acc, alpha=0.10)\n",
    "plt.legend(('Accuracy ', '+/- 3xstd'))\n",
    "plt.ylabel('Accuracy ')\n",
    "plt.xlabel('Number of Neighbors (K)')\n",
    "plt.tight_layout()\n",
    "plt.show()\n",
    "\n",
    "# Get the best accuracy, K, and Model\n",
    "bestAccuracy = mean_acc.max()\n",
    "bestK = mean_acc.argmax()+1\n",
    "bestKnnModel = models[bestK-1]\n",
    "bestKnnDescription = 'Best K={} at Validation Accuracy={}'.format(bestK, round(bestAccuracy, 2))\n",
    "print(bestKnnDescription+'...!!!')\n",
    "\n",
    "# Store it in all models dictionary\n",
    "allModels.append({'Algorithm':'KNN','Description' : bestKnnDescription, 'Model': bestKnnModel})\n",
    "print('# Models:', len(allModels))"
   ]
  },
  {
   "cell_type": "markdown",
   "metadata": {},
   "source": [
    "## Decision Tree"
   ]
  },
  {
   "cell_type": "code",
   "execution_count": 23,
   "metadata": {},
   "outputs": [
    {
     "name": "stdout",
     "output_type": "stream",
     "text": [
      "Built Decision Tree Model...!!!\n",
      "# Models: 2\n"
     ]
    }
   ],
   "source": [
    "from sklearn.tree import DecisionTreeClassifier\n",
    "decisionTree = DecisionTreeClassifier(criterion=\"entropy\")\n",
    "decisionTree.fit(Xtrain,ytrain)\n",
    "allModels.append({'Algorithm':'Decision Tree','Description' : 'criterion=Entropy', 'Model': decisionTree})\n",
    "print('Built Decision Tree Model...!!!')\n",
    "print('# Models:', len(allModels))"
   ]
  },
  {
   "cell_type": "markdown",
   "metadata": {},
   "source": [
    "## Support Vector Machine"
   ]
  },
  {
   "cell_type": "code",
   "execution_count": 24,
   "metadata": {},
   "outputs": [
    {
     "name": "stdout",
     "output_type": "stream",
     "text": [
      "Built SVM Classifiers with kernals=['linear', 'rbf', 'sigmoid']...!!!\n",
      "# Models: 5\n"
     ]
    }
   ],
   "source": [
    "from sklearn import svm\n",
    "kernels = ['linear', 'rbf', 'sigmoid']\n",
    "for kernal in kernels:\n",
    "    svmClf = svm.SVC(kernel=kernal)\n",
    "    svmClf.fit(Xtrain,ytrain)\n",
    "    allModels.append({'Algorithm':'SVM','Description' : 'kernel={}'.format(kernal), 'Model': svmClf})\n",
    "\n",
    "print('Built SVM Classifiers with kernals={}...!!!'.format(kernels))\n",
    "print('# Models:', len(allModels))"
   ]
  },
  {
   "cell_type": "markdown",
   "metadata": {},
   "source": [
    "## Logistic Regression"
   ]
  },
  {
   "cell_type": "code",
   "execution_count": 25,
   "metadata": {},
   "outputs": [
    {
     "name": "stdout",
     "output_type": "stream",
     "text": [
      "Built Logistic Regression Classifiers with solvers=['linear', 'rbf', 'sigmoid']...!!!\n",
      "# Models: 10\n"
     ]
    }
   ],
   "source": [
    "from sklearn.linear_model import LogisticRegression\n",
    "solvers = ['liblinear', 'newton-cg', 'lbfgs', 'sag', 'saga']\n",
    "for solver in solvers:\n",
    "    lr = LogisticRegression(C=0.01, solver=solver).fit(Xtrain,ytrain)\n",
    "    allModels.append({'Algorithm':'LogisticRegression','Description' : 'solver={}, C=0.01'.format(solver), 'Model': lr})\n",
    "\n",
    "print('Built Logistic Regression Classifiers with solvers={}...!!!'.format(kernels))\n",
    "print('# Models:', len(allModels))"
   ]
  },
  {
   "cell_type": "markdown",
   "metadata": {},
   "source": [
    "# Model Evaluation using Test set"
   ]
  },
  {
   "cell_type": "markdown",
   "metadata": {},
   "source": [
    "## Calculate Evaluation Metrics \n",
    "For each model using test dataset"
   ]
  },
  {
   "cell_type": "code",
   "execution_count": 26,
   "metadata": {},
   "outputs": [
    {
     "name": "stdout",
     "output_type": "stream",
     "text": [
      "Computed metrics for all models using test dataset...!!!\n"
     ]
    }
   ],
   "source": [
    "from sklearn.metrics import jaccard_similarity_score\n",
    "from sklearn.metrics import f1_score\n",
    "from sklearn.metrics import log_loss\n",
    "\n",
    "for ind, modelData in enumerate(allModels):\n",
    "    testModel = modelData ['Model']\n",
    "    yhat = testModel.predict(Xtest)\n",
    "    jsScore = jaccard_similarity_score(ytest, yhat)\n",
    "    modelData['Jaccard'] = jsScore\n",
    "    f1Score = f1_score(ytest, yhat, average='weighted')\n",
    "    modelData['F1-score'] = f1Score\n",
    "    \n",
    "    if modelData['Algorithm'] == 'LogisticRegression':\n",
    "        yhat_prob = testModel.predict_proba(Xtest)\n",
    "        logLoss = log_loss(ytest, yhat_prob)\n",
    "        modelData['LogLoss'] = logLoss\n",
    "        \n",
    "    allModels[ind] = modelData\n",
    "\n",
    "allModels = pd.DataFrame(allModels) # Convert the Test Metrics Data in to DataFrame\n",
    "report = allModels[['Algorithm', 'Jaccard','F1-score','LogLoss', 'Description']] # Select only report columns\n",
    "report = report.loc[report.groupby(['Algorithm'])['F1-score'].idxmax()] # select only top performing model for each algorithm\n",
    "report.sort_values('F1-score', ascending=False, inplace=True)\n",
    "report.reset_index(drop=True, inplace=True) # reset index\n",
    "\n",
    "print('Computed metrics for all models using test dataset...!!!')"
   ]
  },
  {
   "cell_type": "code",
   "execution_count": 27,
   "metadata": {},
   "outputs": [
    {
     "data": {
      "text/html": [
       "<div>\n",
       "<style scoped>\n",
       "    .dataframe tbody tr th:only-of-type {\n",
       "        vertical-align: middle;\n",
       "    }\n",
       "\n",
       "    .dataframe tbody tr th {\n",
       "        vertical-align: top;\n",
       "    }\n",
       "\n",
       "    .dataframe thead th {\n",
       "        text-align: right;\n",
       "    }\n",
       "</style>\n",
       "<table border=\"1\" class=\"dataframe\">\n",
       "  <thead>\n",
       "    <tr style=\"text-align: right;\">\n",
       "      <th></th>\n",
       "      <th>Algorithm</th>\n",
       "      <th>Jaccard</th>\n",
       "      <th>F1-score</th>\n",
       "      <th>LogLoss</th>\n",
       "      <th>Description</th>\n",
       "    </tr>\n",
       "  </thead>\n",
       "  <tbody>\n",
       "    <tr>\n",
       "      <td>0</td>\n",
       "      <td>SVM</td>\n",
       "      <td>0.877292</td>\n",
       "      <td>0.875764</td>\n",
       "      <td>NaN</td>\n",
       "      <td>kernel=rbf</td>\n",
       "    </tr>\n",
       "    <tr>\n",
       "      <td>1</td>\n",
       "      <td>Decision Tree</td>\n",
       "      <td>0.861777</td>\n",
       "      <td>0.861950</td>\n",
       "      <td>NaN</td>\n",
       "      <td>criterion=Entropy</td>\n",
       "    </tr>\n",
       "    <tr>\n",
       "      <td>2</td>\n",
       "      <td>KNN</td>\n",
       "      <td>0.813822</td>\n",
       "      <td>0.815391</td>\n",
       "      <td>NaN</td>\n",
       "      <td>Best K=1 at Validation Accuracy=0.77</td>\n",
       "    </tr>\n",
       "    <tr>\n",
       "      <td>3</td>\n",
       "      <td>LogisticRegression</td>\n",
       "      <td>0.428773</td>\n",
       "      <td>0.354079</td>\n",
       "      <td>1.691702</td>\n",
       "      <td>solver=newton-cg, C=0.01</td>\n",
       "    </tr>\n",
       "  </tbody>\n",
       "</table>\n",
       "</div>"
      ],
      "text/plain": [
       "            Algorithm   Jaccard  F1-score   LogLoss  \\\n",
       "0                 SVM  0.877292  0.875764       NaN   \n",
       "1       Decision Tree  0.861777  0.861950       NaN   \n",
       "2                 KNN  0.813822  0.815391       NaN   \n",
       "3  LogisticRegression  0.428773  0.354079  1.691702   \n",
       "\n",
       "                            Description  \n",
       "0                            kernel=rbf  \n",
       "1                     criterion=Entropy  \n",
       "2  Best K=1 at Validation Accuracy=0.77  \n",
       "3              solver=newton-cg, C=0.01  "
      ]
     },
     "execution_count": 27,
     "metadata": {},
     "output_type": "execute_result"
    },
    {
     "data": {
      "image/png": "[encoded data removed]",
      "text/plain": [
       "<Figure size 432x288 with 1 Axes>"
      ]
     },
     "metadata": {
      "needs_background": "light"
     },
     "output_type": "display_data"
    }
   ],
   "source": [
    "report.plot(x='Algorithm', y='Jaccard', kind='bar')\n",
    "report.head()"
   ]
  },
  {
   "cell_type": "markdown",
   "metadata": {},
   "source": [
    "## Further Evaluating Best Model with Confusion Matrix"
   ]
  },
  {
   "cell_type": "code",
   "execution_count": 35,
   "metadata": {},
   "outputs": [
    {
     "data": {
      "text/plain": [
       "Text(0.5, 1.0, 'Confusion Matrix of SVM')"
      ]
     },
     "execution_count": 35,
     "metadata": {},
     "output_type": "execute_result"
    },
    {
     "data": {
      "image/png": "[encoded data removed]",
      "text/plain": [
       "<Figure size 720x720 with 2 Axes>"
      ]
     },
     "metadata": {
      "needs_background": "light"
     },
     "output_type": "display_data"
    }
   ],
   "source": [
    "from sklearn.metrics import plot_confusion_matrix\n",
    "\n",
    "bestModelTitle = allModels.loc[allModels['Jaccard'].idxmax(), 'Algorithm'] \n",
    "bestModel = allModels.loc[allModels['Jaccard'].idxmax(), 'Model'] \n",
    "\n",
    "fig = plt.figure(figsize=(10,10))\n",
    "axnorm = fig.add_subplot(111)\n",
    "confMatPlotNorm = plot_confusion_matrix(bestModel, Xtest, ytest, ax=axnorm, normalize='true', cmap='inferno', xticks_rotation='vertical')\n",
    "confMatPlotNorm.ax_.set_title('Confusion Matrix of {}'.format(bestModelTitle))\n"
   ]
  },
  {
   "cell_type": "markdown",
   "metadata": {},
   "source": [
    "#### Major chunk of accuracy loss happens due to misclassification of \"Nightlife Spot\"(Expected) as \"Food\"(Predicted)"
   ]
  },
  {
   "cell_type": "markdown",
   "metadata": {},
   "source": [
    "# Further Exploring on mis-classifications"
   ]
  },
  {
   "cell_type": "code",
   "execution_count": 46,
   "metadata": {},
   "outputs": [
    {
     "data": {
      "text/html": [
       "<div>\n",
       "<style scoped>\n",
       "    .dataframe tbody tr th:only-of-type {\n",
       "        vertical-align: middle;\n",
       "    }\n",
       "\n",
       "    .dataframe tbody tr th {\n",
       "        vertical-align: top;\n",
       "    }\n",
       "\n",
       "    .dataframe thead th {\n",
       "        text-align: right;\n",
       "    }\n",
       "</style>\n",
       "<table border=\"1\" class=\"dataframe\">\n",
       "  <thead>\n",
       "    <tr style=\"text-align: right;\">\n",
       "      <th></th>\n",
       "      <th>Venue</th>\n",
       "      <th>Expected</th>\n",
       "      <th>Predicted</th>\n",
       "    </tr>\n",
       "  </thead>\n",
       "  <tbody>\n",
       "    <tr>\n",
       "      <td>3199</td>\n",
       "      <td>mo finissh</td>\n",
       "      <td>Professional &amp; Other Places</td>\n",
       "      <td>Food</td>\n",
       "    </tr>\n",
       "    <tr>\n",
       "      <td>5676</td>\n",
       "      <td>G3 water Doctor</td>\n",
       "      <td>Food</td>\n",
       "      <td>Professional &amp; Other Places</td>\n",
       "    </tr>\n",
       "    <tr>\n",
       "      <td>1841</td>\n",
       "      <td>Kalanikethan</td>\n",
       "      <td>Shop &amp; Service</td>\n",
       "      <td>Food</td>\n",
       "    </tr>\n",
       "    <tr>\n",
       "      <td>5186</td>\n",
       "      <td>Boat house</td>\n",
       "      <td>Arts &amp; Entertainment</td>\n",
       "      <td>Food</td>\n",
       "    </tr>\n",
       "    <tr>\n",
       "      <td>631</td>\n",
       "      <td>Spartan</td>\n",
       "      <td>Shop &amp; Service</td>\n",
       "      <td>Food</td>\n",
       "    </tr>\n",
       "  </tbody>\n",
       "</table>\n",
       "</div>"
      ],
      "text/plain": [
       "                Venue                     Expected  \\\n",
       "3199       mo finissh  Professional & Other Places   \n",
       "5676  G3 water Doctor                         Food   \n",
       "1841     Kalanikethan               Shop & Service   \n",
       "5186       Boat house         Arts & Entertainment   \n",
       "631           Spartan               Shop & Service   \n",
       "\n",
       "                        Predicted  \n",
       "3199                         Food  \n",
       "5676  Professional & Other Places  \n",
       "1841                         Food  \n",
       "5186                         Food  \n",
       "631                          Food  "
      ]
     },
     "execution_count": 46,
     "metadata": {},
     "output_type": "execute_result"
    }
   ],
   "source": [
    "ypred = bestModel.predict(Xtest)\n",
    "testSet['Predicted'] = ypred\n",
    "testSet.columns=['Venue', 'Expected', 'Predicted']\n",
    "misclf = testSet[testSet['Expected'] != testSet['Predicted']]\n",
    "misclf.head()"
   ]
  },
  {
   "cell_type": "code",
   "execution_count": 51,
   "metadata": {},
   "outputs": [],
   "source": [
    "     \n",
    "extract = misclf[(misclf['Expected'] == 'Nightlife Spot') | (misclf['Expected'] == 'Food') | (misclf['Expected'] == 'Shop & Service')]"
   ]
  },
  {
   "cell_type": "code",
   "execution_count": 57,
   "metadata": {},
   "outputs": [
    {
     "data": {
      "text/html": [
       "<div>\n",
       "<style scoped>\n",
       "    .dataframe tbody tr th:only-of-type {\n",
       "        vertical-align: middle;\n",
       "    }\n",
       "\n",
       "    .dataframe tbody tr th {\n",
       "        vertical-align: top;\n",
       "    }\n",
       "\n",
       "    .dataframe thead th {\n",
       "        text-align: right;\n",
       "    }\n",
       "</style>\n",
       "<table border=\"1\" class=\"dataframe\">\n",
       "  <thead>\n",
       "    <tr style=\"text-align: right;\">\n",
       "      <th></th>\n",
       "      <th>Venue</th>\n",
       "      <th>Expected</th>\n",
       "      <th>Predicted</th>\n",
       "    </tr>\n",
       "  </thead>\n",
       "  <tbody>\n",
       "    <tr>\n",
       "      <td>5676</td>\n",
       "      <td>G3 water Doctor</td>\n",
       "      <td>Food</td>\n",
       "      <td>Professional &amp; Other Places</td>\n",
       "    </tr>\n",
       "    <tr>\n",
       "      <td>1841</td>\n",
       "      <td>Kalanikethan</td>\n",
       "      <td>Shop &amp; Service</td>\n",
       "      <td>Food</td>\n",
       "    </tr>\n",
       "    <tr>\n",
       "      <td>631</td>\n",
       "      <td>Spartan</td>\n",
       "      <td>Shop &amp; Service</td>\n",
       "      <td>Food</td>\n",
       "    </tr>\n",
       "    <tr>\n",
       "      <td>5144</td>\n",
       "      <td>saraswati hospital</td>\n",
       "      <td>Shop &amp; Service</td>\n",
       "      <td>Professional &amp; Other Places</td>\n",
       "    </tr>\n",
       "    <tr>\n",
       "      <td>6119</td>\n",
       "      <td>Paatiamma Pottikadai</td>\n",
       "      <td>Shop &amp; Service</td>\n",
       "      <td>Food</td>\n",
       "    </tr>\n",
       "    <tr>\n",
       "      <td>2329</td>\n",
       "      <td>K.M.M Fish Stall</td>\n",
       "      <td>Shop &amp; Service</td>\n",
       "      <td>Food</td>\n",
       "    </tr>\n",
       "    <tr>\n",
       "      <td>1402</td>\n",
       "      <td>Compu Soft Systems</td>\n",
       "      <td>Shop &amp; Service</td>\n",
       "      <td>Professional &amp; Other Places</td>\n",
       "    </tr>\n",
       "    <tr>\n",
       "      <td>605</td>\n",
       "      <td>kovai pazhamudir</td>\n",
       "      <td>Shop &amp; Service</td>\n",
       "      <td>Food</td>\n",
       "    </tr>\n",
       "    <tr>\n",
       "      <td>6521</td>\n",
       "      <td>Black Box</td>\n",
       "      <td>Nightlife Spot</td>\n",
       "      <td>Food</td>\n",
       "    </tr>\n",
       "    <tr>\n",
       "      <td>5143</td>\n",
       "      <td>Arafa JAS  Briyani Hall</td>\n",
       "      <td>Food</td>\n",
       "      <td>Professional &amp; Other Places</td>\n",
       "    </tr>\n",
       "    <tr>\n",
       "      <td>4128</td>\n",
       "      <td>TNEB Office</td>\n",
       "      <td>Shop &amp; Service</td>\n",
       "      <td>Professional &amp; Other Places</td>\n",
       "    </tr>\n",
       "    <tr>\n",
       "      <td>6116</td>\n",
       "      <td>bullet miami</td>\n",
       "      <td>Shop &amp; Service</td>\n",
       "      <td>Food</td>\n",
       "    </tr>\n",
       "    <tr>\n",
       "      <td>6446</td>\n",
       "      <td>Hotel Clarion</td>\n",
       "      <td>Nightlife Spot</td>\n",
       "      <td>Food</td>\n",
       "    </tr>\n",
       "    <tr>\n",
       "      <td>5403</td>\n",
       "      <td>Spectra</td>\n",
       "      <td>Shop &amp; Service</td>\n",
       "      <td>Food</td>\n",
       "    </tr>\n",
       "    <tr>\n",
       "      <td>6615</td>\n",
       "      <td>Bullmen Royal Enfield</td>\n",
       "      <td>Shop &amp; Service</td>\n",
       "      <td>Professional &amp; Other Places</td>\n",
       "    </tr>\n",
       "    <tr>\n",
       "      <td>6160</td>\n",
       "      <td>Nair Kadai</td>\n",
       "      <td>Shop &amp; Service</td>\n",
       "      <td>Food</td>\n",
       "    </tr>\n",
       "    <tr>\n",
       "      <td>2615</td>\n",
       "      <td>Kongu Masala</td>\n",
       "      <td>Shop &amp; Service</td>\n",
       "      <td>Food</td>\n",
       "    </tr>\n",
       "    <tr>\n",
       "      <td>1649</td>\n",
       "      <td>Lakshmi Ceramics</td>\n",
       "      <td>Shop &amp; Service</td>\n",
       "      <td>Food</td>\n",
       "    </tr>\n",
       "    <tr>\n",
       "      <td>2972</td>\n",
       "      <td>Knotty Spirit</td>\n",
       "      <td>Nightlife Spot</td>\n",
       "      <td>Food</td>\n",
       "    </tr>\n",
       "    <tr>\n",
       "      <td>4505</td>\n",
       "      <td>Bullmen Royal Enfield</td>\n",
       "      <td>Shop &amp; Service</td>\n",
       "      <td>Professional &amp; Other Places</td>\n",
       "    </tr>\n",
       "    <tr>\n",
       "      <td>3425</td>\n",
       "      <td>R v store</td>\n",
       "      <td>Food</td>\n",
       "      <td>Shop &amp; Service</td>\n",
       "    </tr>\n",
       "    <tr>\n",
       "      <td>1638</td>\n",
       "      <td>Mercedes Benz</td>\n",
       "      <td>Shop &amp; Service</td>\n",
       "      <td>Food</td>\n",
       "    </tr>\n",
       "    <tr>\n",
       "      <td>6671</td>\n",
       "      <td>G3 water Doctor</td>\n",
       "      <td>Food</td>\n",
       "      <td>Professional &amp; Other Places</td>\n",
       "    </tr>\n",
       "    <tr>\n",
       "      <td>2446</td>\n",
       "      <td>Bread Boys</td>\n",
       "      <td>Food</td>\n",
       "      <td>Shop &amp; Service</td>\n",
       "    </tr>\n",
       "    <tr>\n",
       "      <td>1296</td>\n",
       "      <td>Karpagam Complex Fish Stall</td>\n",
       "      <td>Food</td>\n",
       "      <td>Shop &amp; Service</td>\n",
       "    </tr>\n",
       "    <tr>\n",
       "      <td>2335</td>\n",
       "      <td>All Seasons Restaurant</td>\n",
       "      <td>Food</td>\n",
       "      <td>Residence</td>\n",
       "    </tr>\n",
       "    <tr>\n",
       "      <td>632</td>\n",
       "      <td>Nongu Kadai</td>\n",
       "      <td>Shop &amp; Service</td>\n",
       "      <td>Food</td>\n",
       "    </tr>\n",
       "    <tr>\n",
       "      <td>2242</td>\n",
       "      <td>Thomas Cook India Private Limited</td>\n",
       "      <td>Shop &amp; Service</td>\n",
       "      <td>Professional &amp; Other Places</td>\n",
       "    </tr>\n",
       "    <tr>\n",
       "      <td>2239</td>\n",
       "      <td>Anandhas Rs Puram</td>\n",
       "      <td>Food</td>\n",
       "      <td>Shop &amp; Service</td>\n",
       "    </tr>\n",
       "    <tr>\n",
       "      <td>5428</td>\n",
       "      <td>Kathi express</td>\n",
       "      <td>Food</td>\n",
       "      <td>Shop &amp; Service</td>\n",
       "    </tr>\n",
       "    <tr>\n",
       "      <td>4495</td>\n",
       "      <td>The Circus - Creative &amp; Development Solutions ...</td>\n",
       "      <td>Shop &amp; Service</td>\n",
       "      <td>Professional &amp; Other Places</td>\n",
       "    </tr>\n",
       "    <tr>\n",
       "      <td>2212</td>\n",
       "      <td>Techzone</td>\n",
       "      <td>Shop &amp; Service</td>\n",
       "      <td>Food</td>\n",
       "    </tr>\n",
       "    <tr>\n",
       "      <td>1331</td>\n",
       "      <td>Haggle Systems</td>\n",
       "      <td>Shop &amp; Service</td>\n",
       "      <td>Professional &amp; Other Places</td>\n",
       "    </tr>\n",
       "    <tr>\n",
       "      <td>3442</td>\n",
       "      <td>TNEB Office</td>\n",
       "      <td>Shop &amp; Service</td>\n",
       "      <td>Professional &amp; Other Places</td>\n",
       "    </tr>\n",
       "    <tr>\n",
       "      <td>2945</td>\n",
       "      <td>Balaji bakery</td>\n",
       "      <td>Shop &amp; Service</td>\n",
       "      <td>Food</td>\n",
       "    </tr>\n",
       "    <tr>\n",
       "      <td>2240</td>\n",
       "      <td>Global Stationary</td>\n",
       "      <td>Shop &amp; Service</td>\n",
       "      <td>Professional &amp; Other Places</td>\n",
       "    </tr>\n",
       "    <tr>\n",
       "      <td>2847</td>\n",
       "      <td>Cafe Mojo</td>\n",
       "      <td>Nightlife Spot</td>\n",
       "      <td>Food</td>\n",
       "    </tr>\n",
       "    <tr>\n",
       "      <td>502</td>\n",
       "      <td>C Tech</td>\n",
       "      <td>Shop &amp; Service</td>\n",
       "      <td>Professional &amp; Other Places</td>\n",
       "    </tr>\n",
       "    <tr>\n",
       "      <td>7013</td>\n",
       "      <td>green grains</td>\n",
       "      <td>Food</td>\n",
       "      <td>Shop &amp; Service</td>\n",
       "    </tr>\n",
       "    <tr>\n",
       "      <td>2537</td>\n",
       "      <td>kovai novelties</td>\n",
       "      <td>Shop &amp; Service</td>\n",
       "      <td>Food</td>\n",
       "    </tr>\n",
       "    <tr>\n",
       "      <td>579</td>\n",
       "      <td>Kk bakes</td>\n",
       "      <td>Shop &amp; Service</td>\n",
       "      <td>Food</td>\n",
       "    </tr>\n",
       "    <tr>\n",
       "      <td>4418</td>\n",
       "      <td>Dhanalakshmi Bank @Divine Nagar</td>\n",
       "      <td>Shop &amp; Service</td>\n",
       "      <td>Residence</td>\n",
       "    </tr>\n",
       "    <tr>\n",
       "      <td>1344</td>\n",
       "      <td>The Surukku Pai Shop</td>\n",
       "      <td>Shop &amp; Service</td>\n",
       "      <td>Food</td>\n",
       "    </tr>\n",
       "    <tr>\n",
       "      <td>1470</td>\n",
       "      <td>Apollo Pharmacy</td>\n",
       "      <td>Shop &amp; Service</td>\n",
       "      <td>Professional &amp; Other Places</td>\n",
       "    </tr>\n",
       "    <tr>\n",
       "      <td>2252</td>\n",
       "      <td>TASMAC , RS Puram</td>\n",
       "      <td>Nightlife Spot</td>\n",
       "      <td>Shop &amp; Service</td>\n",
       "    </tr>\n",
       "    <tr>\n",
       "      <td>2499</td>\n",
       "      <td>green grains</td>\n",
       "      <td>Food</td>\n",
       "      <td>Shop &amp; Service</td>\n",
       "    </tr>\n",
       "    <tr>\n",
       "      <td>3550</td>\n",
       "      <td>Sri renugadevi graphics</td>\n",
       "      <td>Shop &amp; Service</td>\n",
       "      <td>Food</td>\n",
       "    </tr>\n",
       "    <tr>\n",
       "      <td>2951</td>\n",
       "      <td>Petty Kadai</td>\n",
       "      <td>Shop &amp; Service</td>\n",
       "      <td>Food</td>\n",
       "    </tr>\n",
       "    <tr>\n",
       "      <td>2561</td>\n",
       "      <td>Le'Go</td>\n",
       "      <td>Food</td>\n",
       "      <td>Shop &amp; Service</td>\n",
       "    </tr>\n",
       "    <tr>\n",
       "      <td>2277</td>\n",
       "      <td>Bread Boys</td>\n",
       "      <td>Food</td>\n",
       "      <td>Shop &amp; Service</td>\n",
       "    </tr>\n",
       "    <tr>\n",
       "      <td>7062</td>\n",
       "      <td>Le'Go</td>\n",
       "      <td>Food</td>\n",
       "      <td>Shop &amp; Service</td>\n",
       "    </tr>\n",
       "    <tr>\n",
       "      <td>3245</td>\n",
       "      <td>House of Lords</td>\n",
       "      <td>Nightlife Spot</td>\n",
       "      <td>Professional &amp; Other Places</td>\n",
       "    </tr>\n",
       "    <tr>\n",
       "      <td>3895</td>\n",
       "      <td>Sri Krishna Sweets</td>\n",
       "      <td>Shop &amp; Service</td>\n",
       "      <td>Food</td>\n",
       "    </tr>\n",
       "    <tr>\n",
       "      <td>3774</td>\n",
       "      <td>Majestic Book House</td>\n",
       "      <td>Shop &amp; Service</td>\n",
       "      <td>Professional &amp; Other Places</td>\n",
       "    </tr>\n",
       "    <tr>\n",
       "      <td>5152</td>\n",
       "      <td>Spot-Ondipudur</td>\n",
       "      <td>Nightlife Spot</td>\n",
       "      <td>Food</td>\n",
       "    </tr>\n",
       "    <tr>\n",
       "      <td>1857</td>\n",
       "      <td>Vijex office Products</td>\n",
       "      <td>Shop &amp; Service</td>\n",
       "      <td>Professional &amp; Other Places</td>\n",
       "    </tr>\n",
       "    <tr>\n",
       "      <td>3171</td>\n",
       "      <td>BTM</td>\n",
       "      <td>Shop &amp; Service</td>\n",
       "      <td>Food</td>\n",
       "    </tr>\n",
       "    <tr>\n",
       "      <td>271</td>\n",
       "      <td>Bhaiya Paani Bhuri Kadai</td>\n",
       "      <td>Food</td>\n",
       "      <td>Travel &amp; Transport</td>\n",
       "    </tr>\n",
       "    <tr>\n",
       "      <td>7369</td>\n",
       "      <td>Europa</td>\n",
       "      <td>Shop &amp; Service</td>\n",
       "      <td>Food</td>\n",
       "    </tr>\n",
       "    <tr>\n",
       "      <td>2568</td>\n",
       "      <td>Apollo Pharmacy</td>\n",
       "      <td>Shop &amp; Service</td>\n",
       "      <td>Professional &amp; Other Places</td>\n",
       "    </tr>\n",
       "    <tr>\n",
       "      <td>4724</td>\n",
       "      <td>R v store</td>\n",
       "      <td>Food</td>\n",
       "      <td>Shop &amp; Service</td>\n",
       "    </tr>\n",
       "    <tr>\n",
       "      <td>2956</td>\n",
       "      <td>venilla clinic</td>\n",
       "      <td>Shop &amp; Service</td>\n",
       "      <td>Professional &amp; Other Places</td>\n",
       "    </tr>\n",
       "    <tr>\n",
       "      <td>5556</td>\n",
       "      <td>Toni&amp;Guy</td>\n",
       "      <td>Shop &amp; Service</td>\n",
       "      <td>Food</td>\n",
       "    </tr>\n",
       "    <tr>\n",
       "      <td>2146</td>\n",
       "      <td>Agarwals Sweet Palace</td>\n",
       "      <td>Food</td>\n",
       "      <td>Shop &amp; Service</td>\n",
       "    </tr>\n",
       "    <tr>\n",
       "      <td>81</td>\n",
       "      <td>Apollo Pharmacy</td>\n",
       "      <td>Shop &amp; Service</td>\n",
       "      <td>Professional &amp; Other Places</td>\n",
       "    </tr>\n",
       "    <tr>\n",
       "      <td>714</td>\n",
       "      <td>Best Chiken and Fish</td>\n",
       "      <td>Shop &amp; Service</td>\n",
       "      <td>Food</td>\n",
       "    </tr>\n",
       "  </tbody>\n",
       "</table>\n",
       "</div>"
      ],
      "text/plain": [
       "                                                  Venue        Expected  \\\n",
       "5676                                    G3 water Doctor            Food   \n",
       "1841                                       Kalanikethan  Shop & Service   \n",
       "631                                             Spartan  Shop & Service   \n",
       "5144                                 saraswati hospital  Shop & Service   \n",
       "6119                               Paatiamma Pottikadai  Shop & Service   \n",
       "2329                                   K.M.M Fish Stall  Shop & Service   \n",
       "1402                                 Compu Soft Systems  Shop & Service   \n",
       "605                                    kovai pazhamudir  Shop & Service   \n",
       "6521                                          Black Box  Nightlife Spot   \n",
       "5143                            Arafa JAS  Briyani Hall            Food   \n",
       "4128                                        TNEB Office  Shop & Service   \n",
       "6116                                       bullet miami  Shop & Service   \n",
       "6446                                      Hotel Clarion  Nightlife Spot   \n",
       "5403                                            Spectra  Shop & Service   \n",
       "6615                              Bullmen Royal Enfield  Shop & Service   \n",
       "6160                                         Nair Kadai  Shop & Service   \n",
       "2615                                       Kongu Masala  Shop & Service   \n",
       "1649                                   Lakshmi Ceramics  Shop & Service   \n",
       "2972                                      Knotty Spirit  Nightlife Spot   \n",
       "4505                              Bullmen Royal Enfield  Shop & Service   \n",
       "3425                                          R v store            Food   \n",
       "1638                                      Mercedes Benz  Shop & Service   \n",
       "6671                                    G3 water Doctor            Food   \n",
       "2446                                         Bread Boys            Food   \n",
       "1296                        Karpagam Complex Fish Stall            Food   \n",
       "2335                             All Seasons Restaurant            Food   \n",
       "632                                         Nongu Kadai  Shop & Service   \n",
       "2242                  Thomas Cook India Private Limited  Shop & Service   \n",
       "2239                                  Anandhas Rs Puram            Food   \n",
       "5428                                      Kathi express            Food   \n",
       "4495  The Circus - Creative & Development Solutions ...  Shop & Service   \n",
       "2212                                           Techzone  Shop & Service   \n",
       "1331                                     Haggle Systems  Shop & Service   \n",
       "3442                                        TNEB Office  Shop & Service   \n",
       "2945                                      Balaji bakery  Shop & Service   \n",
       "2240                                  Global Stationary  Shop & Service   \n",
       "2847                                          Cafe Mojo  Nightlife Spot   \n",
       "502                                              C Tech  Shop & Service   \n",
       "7013                                       green grains            Food   \n",
       "2537                                    kovai novelties  Shop & Service   \n",
       "579                                            Kk bakes  Shop & Service   \n",
       "4418                    Dhanalakshmi Bank @Divine Nagar  Shop & Service   \n",
       "1344                               The Surukku Pai Shop  Shop & Service   \n",
       "1470                                    Apollo Pharmacy  Shop & Service   \n",
       "2252                                  TASMAC , RS Puram  Nightlife Spot   \n",
       "2499                                       green grains            Food   \n",
       "3550                            Sri renugadevi graphics  Shop & Service   \n",
       "2951                                        Petty Kadai  Shop & Service   \n",
       "2561                                              Le'Go            Food   \n",
       "2277                                         Bread Boys            Food   \n",
       "7062                                              Le'Go            Food   \n",
       "3245                                     House of Lords  Nightlife Spot   \n",
       "3895                                 Sri Krishna Sweets  Shop & Service   \n",
       "3774                                Majestic Book House  Shop & Service   \n",
       "5152                                     Spot-Ondipudur  Nightlife Spot   \n",
       "1857                              Vijex office Products  Shop & Service   \n",
       "3171                                                BTM  Shop & Service   \n",
       "271                            Bhaiya Paani Bhuri Kadai            Food   \n",
       "7369                                             Europa  Shop & Service   \n",
       "2568                                    Apollo Pharmacy  Shop & Service   \n",
       "4724                                          R v store            Food   \n",
       "2956                                     venilla clinic  Shop & Service   \n",
       "5556                                           Toni&Guy  Shop & Service   \n",
       "2146                              Agarwals Sweet Palace            Food   \n",
       "81                                      Apollo Pharmacy  Shop & Service   \n",
       "714                                Best Chiken and Fish  Shop & Service   \n",
       "\n",
       "                        Predicted  \n",
       "5676  Professional & Other Places  \n",
       "1841                         Food  \n",
       "631                          Food  \n",
       "5144  Professional & Other Places  \n",
       "6119                         Food  \n",
       "2329                         Food  \n",
       "1402  Professional & Other Places  \n",
       "605                          Food  \n",
       "6521                         Food  \n",
       "5143  Professional & Other Places  \n",
       "4128  Professional & Other Places  \n",
       "6116                         Food  \n",
       "6446                         Food  \n",
       "5403                         Food  \n",
       "6615  Professional & Other Places  \n",
       "6160                         Food  \n",
       "2615                         Food  \n",
       "1649                         Food  \n",
       "2972                         Food  \n",
       "4505  Professional & Other Places  \n",
       "3425               Shop & Service  \n",
       "1638                         Food  \n",
       "6671  Professional & Other Places  \n",
       "2446               Shop & Service  \n",
       "1296               Shop & Service  \n",
       "2335                    Residence  \n",
       "632                          Food  \n",
       "2242  Professional & Other Places  \n",
       "2239               Shop & Service  \n",
       "5428               Shop & Service  \n",
       "4495  Professional & Other Places  \n",
       "2212                         Food  \n",
       "1331  Professional & Other Places  \n",
       "3442  Professional & Other Places  \n",
       "2945                         Food  \n",
       "2240  Professional & Other Places  \n",
       "2847                         Food  \n",
       "502   Professional & Other Places  \n",
       "7013               Shop & Service  \n",
       "2537                         Food  \n",
       "579                          Food  \n",
       "4418                    Residence  \n",
       "1344                         Food  \n",
       "1470  Professional & Other Places  \n",
       "2252               Shop & Service  \n",
       "2499               Shop & Service  \n",
       "3550                         Food  \n",
       "2951                         Food  \n",
       "2561               Shop & Service  \n",
       "2277               Shop & Service  \n",
       "7062               Shop & Service  \n",
       "3245  Professional & Other Places  \n",
       "3895                         Food  \n",
       "3774  Professional & Other Places  \n",
       "5152                         Food  \n",
       "1857  Professional & Other Places  \n",
       "3171                         Food  \n",
       "271            Travel & Transport  \n",
       "7369                         Food  \n",
       "2568  Professional & Other Places  \n",
       "4724               Shop & Service  \n",
       "2956  Professional & Other Places  \n",
       "5556                         Food  \n",
       "2146               Shop & Service  \n",
       "81    Professional & Other Places  \n",
       "714                          Food  "
      ]
     },
     "execution_count": 57,
     "metadata": {},
     "output_type": "execute_result"
    }
   ],
   "source": [
    "pd.set_option('display.max_rows', None)\n",
    "extract"
   ]
  },
  {
   "cell_type": "code",
   "execution_count": null,
   "metadata": {},
   "outputs": [],
   "source": []
  }
 ],
 "metadata": {
  "kernelspec": {
   "display_name": "Python 3",
   "language": "python",
   "name": "python3"
  },
  "language_info": {
   "codemirror_mode": {
    "name": "ipython",
    "version": 3
   },
   "file_extension": ".py",
   "mimetype": "text/x-python",
   "name": "python",
   "nbconvert_exporter": "python",
   "pygments_lexer": "ipython3",
   "version": "3.7.4"
  }
 },
 "nbformat": 4,
 "nbformat_minor": 2
}
